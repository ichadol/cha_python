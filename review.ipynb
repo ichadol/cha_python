{
 "cells": [
  {
   "cell_type": "markdown",
   "metadata": {},
   "source": [
    "##### count >> 변수.count(\"찾고 싶은 문자\") >> 찾고 싶은 문자가 몇 개인지 찾아줌\n",
    "##### find >> 변수.find(\"찾고 싶은 문자\") >> 찾고 싶은 첫 번째 문자가 인덱스 몇번에 있는지 알려줌\n",
    "##### index >> 변수.index(\"찾고 싶은 문자\") >> 찾고 싶은 첫 번째 문자가 인덱스 몇 번에 있는지 알려줌\n",
    "##### join >> \"조인시키고 싶은 문자\".join(\"본래 문자열\")\n",
    "##### upper >> 변수.upper() >> 대문자로 바꿔줌 <> lower 소문자로 바꿔줌\n",
    "##### replace >> 변수. replace(\"없애고 싶은 문자열\", \"그 자리에 새로 넣고 싶은 문자열\")\n",
    "##### split >> 변수.split() >> 공백을 기준으로 문자열을 나눠준다\n",
    "##### sort >> 리스트.sort() >> 내림차순으로 정렬\n",
    "##### remove >> 리스트.remove(없애고 싶은 문자나 숫자)\n",
    "##### reverse >> 리스트.reverse() >> 리스트를 반대로 뒤집어준다\n",
    "##### insert >> 리스트.insert(삽입하고 싶은 인덱스 번호, 삽입하고 싶은 숫자)\n",
    "##### append >> 리스트.append(삽입하고 싶은 숫자나 문자) >> 마지막에 리스트 요소 추가\n",
    "##### pop >> 리스트.pop() >> 리스트 마지막의 요소를 하나씩 빼준다\n",
    "##### extend >> 리스트.extend([추가하고 싶은 리스트]) >> 리스트를 추가해준다\n",
    "##### 딕셔너리 >> dict  = {key : value} 값으로 넣어준다 >> key값의 중복 불가\n",
    "##### 딕셔너리 >> dict[key]를 하면 그 key에 맞는 value가 나옴\n",
    "##### 딕셔너리 >> 딕셔너리 안에 key가 있는지 확인하려면 key in 딕셔너리 이름 하면 BOOLEAN 형태로 나옴\n",
    "##### 딕셔너리 >> a.keys() >> a 딕셔너리의 모든 key 값이 나온다\n",
    "##### 딕셔너리 >> a.values() >> a 딕셔너리의 모든 value 값이 \n",
    "##### 딕셔너리 >> a.items() >> a 딕셔너리의 key value 값이 튜플 형태로 나온다\n",
    "##### 집합 >> set([리스트])를 통해 집합으로 바꿔줄 수 있음\n",
    "##### 집합 >> A & B >> A와 B의 교집합\n",
    "##### 집합 >> A | B >> A와 B의 합집합\n",
    "##### 집합 >> A - B >> A에서 B를 뺀 차집합\n",
    "##### 집합 >> A ^ B >> A와 B의 합집에서 교집합을 뺀 여집합\n",
    "##### 집합은 중복이 불가능함, 순서가 없음\n",
    "##### update >> 집합.update(없데이트 하고 싶은 값)\n",
    "##### remove >> 집합.remove(제거하고 싶은 값)\n",
    "##### BOOLEAN >> True False 로 나타나는 자료형을 말함 ex. print(1==1) >> True로 반환될 것이다\n",
    "##### if와 not in 구문 같이 사용해 줄 수 있다.\n",
    "##### while >> break, continue 같이 사용해준다\n",
    "##### \\n은 줄바꿈 함수이므로 적절하게 사용해줄 수 있다.\n",
    "##### for문과 continue도 같이 활용해 줄 수 있음\n",
    "##### 2중 for문은 겹쳐서 나옴\n",
    "##### result = [num * 3 for num in a] >> 앞의 num은 print및 result라는 리스트에 들어가는 num을 말함\n",
    "##### 뒤의 for num in a 는 나머지 똑같음\n",
    "##### 파일입출력 >> f = open(\"새파일.txt\", \"W\")로 열어줄 수 있다\n",
    "##### 파일입출력 >> f.close() 파일을 닫아주는 매서드\n",
    "##### 파일입출력 >> r = 읽기모드, w = 쓰기모드, a = 추가모드\n",
    "##### 파일입출력 >> f.readline() >> 파일을 읽어주는 메소드\n",
    "##### 파일입출력 >> f.readlines() >> 파일 전체를 읽어주는 메소드\n",
    "##### 파일입출력 >> f.read() >> 파일 전체를 읽어준다\n",
    "##### 파일입출력 >> with open(\"foo.txt\", \"W\") as f:\n",
    "##### 파일입출력 >>     f.write(\"life is too short\") 와 같이 굳이 닫아주지 않고 파일을 읽어줄 수 있음\n",
    "##### print(i, end ='') >> for문과 같이 쓸 때 줄이 한줄로 나오게 하고 싶으면 이렇게 하면됨\n",
    "##### def처럼 함수를 정의해줄  때는 입력값이 있는 것인지, 출력값이 return인지 print인지 잘 봐줘야함\n",
    "##### 정의한 함수에서 sum(3, 4)로 쓸 수 있고 sum(a = 3, b = 4)로 사용 가능함\n",
    "##### 매개변수를 넣어줄 때 디폴트값은 가장 끝에 작성해야 한다.\n",
    "##### 지역변수와 전역변수가 있고 global를 통해 지역변수를 전역변수화 시킬 수 있다\n",
    "##### args를 통해 매개변수를 수에 관계 없이 받아줄 수 있다.\n",
    "##### class에서 지역변수는 내부에서 모두 작동한다\n",
    "##### class에서 객체를 만들기 위한 설계 도면이라고 말할 수 있다\n",
    "##### __init__을 통해 초기값을 설정해줄 수 있고 이것을 통해 인스턴스를 만들면 매개변수를 넣어줘야 한다.\n",
    "##### class >> 오버라이딩을 통해 부모클래스의 마음에 들지 않는 함수를 같은 이름으로 받아 고쳐 사용할 수 있다\n",
    "##### self는 class에서 인스턴스 자체를 의미한다\n",
    "##### import를 통해 모듈을 불러올 수 있다\n",
    "##### from ~ import를 통해 더욱 세밀하게 불러올 수 있고 as로 재정의해 쉽게 사용 가능하다"
   ]
  }
 ],
 "metadata": {
  "kernelspec": {
   "display_name": "ai2",
   "language": "python",
   "name": "python3"
  },
  "language_info": {
   "codemirror_mode": {
    "name": "ipython",
    "version": 3
   },
   "file_extension": ".py",
   "mimetype": "text/x-python",
   "name": "python",
   "nbconvert_exporter": "python",
   "pygments_lexer": "ipython3",
   "version": "3.8.17"
  },
  "orig_nbformat": 4
 },
 "nbformat": 4,
 "nbformat_minor": 2
}
