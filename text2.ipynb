{
 "cells": [
  {
   "cell_type": "code",
   "execution_count": null,
   "metadata": {},
   "outputs": [
    {
     "name": "stdout",
     "output_type": "stream",
     "text": [
      "Collecting pandas\n",
      "  Obtaining dependency information for pandas from https://files.pythonhosted.org/packages/c3/6c/ea362eef61f05553aaf1a24b3e96b2d0603f5dc71a3bd35688a24ed88843/pandas-2.0.3-cp38-cp38-win_amd64.whl.metadata\n",
      "  Downloading pandas-2.0.3-cp38-cp38-win_amd64.whl.metadata (18 kB)\n",
      "Requirement already satisfied: python-dateutil>=2.8.2 in c:\\users\\sba\\anaconda3\\envs\\ai2\\lib\\site-packages (from pandas) (2.8.2)\n",
      "Collecting pytz>=2020.1 (from pandas)\n",
      "  Downloading pytz-2023.3-py2.py3-none-any.whl (502 kB)\n",
      "     ---------------------------------------- 0.0/502.3 kB ? eta -:--:--\n",
      "     -- ------------------------------------- 30.7/502.3 kB ? eta -:--:--\n",
      "     -------------------------------------  501.8/502.3 kB 6.3 MB/s eta 0:00:01\n",
      "     -------------------------------------- 502.3/502.3 kB 6.3 MB/s eta 0:00:00\n",
      "Collecting tzdata>=2022.1 (from pandas)\n",
      "  Downloading tzdata-2023.3-py2.py3-none-any.whl (341 kB)\n",
      "     ---------------------------------------- 0.0/341.8 kB ? eta -:--:--\n",
      "     ------------------------------------- 341.8/341.8 kB 10.7 MB/s eta 0:00:00\n",
      "Collecting numpy>=1.20.3 (from pandas)\n",
      "  Obtaining dependency information for numpy>=1.20.3 from https://files.pythonhosted.org/packages/69/65/0d47953afa0ad569d12de5f65d964321c208492064c38fe3b0b9744f8d44/numpy-1.24.4-cp38-cp38-win_amd64.whl.metadata\n",
      "  Downloading numpy-1.24.4-cp38-cp38-win_amd64.whl.metadata (5.6 kB)\n",
      "Requirement already satisfied: six>=1.5 in c:\\users\\sba\\anaconda3\\envs\\ai2\\lib\\site-packages (from python-dateutil>=2.8.2->pandas) (1.16.0)\n",
      "Downloading pandas-2.0.3-cp38-cp38-win_amd64.whl (10.8 MB)\n",
      "   ---------------------------------------- 0.0/10.8 MB ? eta -:--:--\n",
      "   ---------------- ----------------------- 4.6/10.8 MB 97.0 MB/s eta 0:00:01\n",
      "   ----------------------------------- ---- 9.6/10.8 MB 102.2 MB/s eta 0:00:01\n",
      "   ---------------------------------------- 10.8/10.8 MB 72.5 MB/s eta 0:00:00\n",
      "Downloading numpy-1.24.4-cp38-cp38-win_amd64.whl (14.9 MB)\n",
      "   ---------------------------------------- 0.0/14.9 MB ? eta -:--:--\n",
      "   -------------- ------------------------- 5.5/14.9 MB 120.0 MB/s eta 0:00:01\n",
      "   --------------------------- ------------ 10.1/14.9 MB 108.9 MB/s eta 0:00:01\n",
      "   ------------------------------- -------- 11.6/14.9 MB 81.8 MB/s eta 0:00:01\n",
      "   --------------------------------- ------ 12.5/14.9 MB 59.5 MB/s eta 0:00:01\n",
      "   ----------------------------------- ---- 13.1/14.9 MB 50.4 MB/s eta 0:00:01\n",
      "   ------------------------------------- -- 13.8/14.9 MB 40.9 MB/s eta 0:00:01\n",
      "   ---------------------------------------  14.8/14.9 MB 36.3 MB/s eta 0:00:01\n",
      "   ---------------------------------------- 14.9/14.9 MB 32.7 MB/s eta 0:00:00\n",
      "Installing collected packages: pytz, tzdata, numpy, pandas\n",
      "Successfully installed numpy-1.24.4 pandas-2.0.3 pytz-2023.3 tzdata-2023.3\n"
     ]
    }
   ],
   "source": [
    "!pip install pandas"
   ]
  },
  {
   "cell_type": "code",
   "execution_count": null,
   "metadata": {},
   "outputs": [
    {
     "data": {
      "text/plain": [
       "<function pandas.io.parsers.readers.read_csv(filepath_or_buffer: 'FilePath | ReadCsvBuffer[bytes] | ReadCsvBuffer[str]', *, sep: 'str | None | lib.NoDefault' = <no_default>, delimiter: 'str | None | lib.NoDefault' = None, header: \"int | Sequence[int] | None | Literal['infer']\" = 'infer', names: 'Sequence[Hashable] | None | lib.NoDefault' = <no_default>, index_col: 'IndexLabel | Literal[False] | None' = None, usecols=None, dtype: 'DtypeArg | None' = None, engine: 'CSVEngine | None' = None, converters=None, true_values=None, false_values=None, skipinitialspace: 'bool' = False, skiprows=None, skipfooter: 'int' = 0, nrows: 'int | None' = None, na_values=None, keep_default_na: 'bool' = True, na_filter: 'bool' = True, verbose: 'bool' = False, skip_blank_lines: 'bool' = True, parse_dates: 'bool | Sequence[Hashable] | None' = None, infer_datetime_format: 'bool | lib.NoDefault' = <no_default>, keep_date_col: 'bool' = False, date_parser=<no_default>, date_format: 'str | None' = None, dayfirst: 'bool' = False, cache_dates: 'bool' = True, iterator: 'bool' = False, chunksize: 'int | None' = None, compression: 'CompressionOptions' = 'infer', thousands: 'str | None' = None, decimal: 'str' = '.', lineterminator: 'str | None' = None, quotechar: 'str' = '\"', quoting: 'int' = 0, doublequote: 'bool' = True, escapechar: 'str | None' = None, comment: 'str | None' = None, encoding: 'str | None' = None, encoding_errors: 'str | None' = 'strict', dialect: 'str | csv.Dialect | None' = None, on_bad_lines: 'str' = 'error', delim_whitespace: 'bool' = False, low_memory=True, memory_map: 'bool' = False, float_precision: \"Literal[('high', 'legacy')] | None\" = None, storage_options: 'StorageOptions' = None, dtype_backend: 'DtypeBackend | lib.NoDefault' = <no_default>) -> 'DataFrame | TextFileReader'>"
      ]
     },
     "execution_count": 19,
     "metadata": {},
     "output_type": "execute_result"
    }
   ],
   "source": [
    "import pandas as pd"
   ]
  },
  {
   "cell_type": "code",
   "execution_count": null,
   "metadata": {},
   "outputs": [],
   "source": [
    "a = 1\n",
    "b = \"cha\"\n",
    "c = [1, 3, \"차석휘\", \"sleep\"]\n"
   ]
  },
  {
   "cell_type": "markdown",
   "metadata": {},
   "source": [
    "## 변수와 자료형"
   ]
  },
  {
   "cell_type": "code",
   "execution_count": null,
   "metadata": {},
   "outputs": [
    {
     "name": "stdout",
     "output_type": "stream",
     "text": [
      "7\n",
      "12\n",
      "0.75\n",
      "81\n"
     ]
    }
   ],
   "source": [
    "a = 3\n",
    "b = 4\n",
    "print(a+b)\n",
    "print(a * b)\n",
    "print(a/b)\n",
    "print(a**b)\n"
   ]
  },
  {
   "cell_type": "code",
   "execution_count": null,
   "metadata": {},
   "outputs": [
    {
     "name": "stdout",
     "output_type": "stream",
     "text": [
      "안녕하세요\n",
      "제 이름은\n",
      "차석휘 \n",
      "입니다\n",
      "녕하세요\n",
      "\n"
     ]
    }
   ],
   "source": [
    "a = '단어'\n",
    "b = \"ABC\"\n",
    "c = '''안녕하세요\n",
    "제 이름은\n",
    "차석휘 \n",
    "입니다'''\n",
    "print(c)\n",
    "print(c[1:6])"
   ]
  },
  {
   "cell_type": "code",
   "execution_count": null,
   "metadata": {},
   "outputs": [
    {
     "data": {
      "text/plain": [
       "'안녕하세요\\n제 이름은\\n차석휘 \\n입니다'"
      ]
     },
     "execution_count": 49,
     "metadata": {},
     "output_type": "execute_result"
    }
   ],
   "source": [
    "c"
   ]
  },
  {
   "cell_type": "code",
   "execution_count": null,
   "metadata": {},
   "outputs": [
    {
     "name": "stdout",
     "output_type": "stream",
     "text": [
      "thon Programin\n"
     ]
    }
   ],
   "source": [
    "str4 = 'Python Programing'\n",
    "print(str4[2:-1])"
   ]
  },
  {
   "cell_type": "code",
   "execution_count": null,
   "metadata": {},
   "outputs": [
    {
     "name": "stdout",
     "output_type": "stream",
     "text": [
      "나는 \"차석휘\"입니다 나는 '차석휘'입니다 나는 '차석휘'입니다 나는 \n",
      "차석휘\n",
      "입니다.\n"
     ]
    }
   ],
   "source": [
    "text1 = '나는 \"차석휘\"입니다'\n",
    "text2 = \"나는 '차석휘'입니다\"\n",
    "text3 = '나는 \\'차석휘\\'입니다'\n",
    "text4 = \"나는 \\n차석휘\\n입니다.\"\n",
    "print(text1, text2, text3, text4)\n"
   ]
  },
  {
   "cell_type": "code",
   "execution_count": null,
   "metadata": {},
   "outputs": [
    {
     "name": "stdout",
     "output_type": "stream",
     "text": [
      "Requirement already satisfied: seaborn in c:\\users\\sba\\anaconda3\\envs\\ai2\\lib\\site-packages (0.12.2)\n",
      "Requirement already satisfied: numpy!=1.24.0,>=1.17 in c:\\users\\sba\\anaconda3\\envs\\ai2\\lib\\site-packages (from seaborn) (1.24.4)\n",
      "Requirement already satisfied: pandas>=0.25 in c:\\users\\sba\\anaconda3\\envs\\ai2\\lib\\site-packages (from seaborn) (2.0.3)\n",
      "Requirement already satisfied: matplotlib!=3.6.1,>=3.1 in c:\\users\\sba\\anaconda3\\envs\\ai2\\lib\\site-packages (from seaborn) (3.7.2)\n",
      "Requirement already satisfied: contourpy>=1.0.1 in c:\\users\\sba\\anaconda3\\envs\\ai2\\lib\\site-packages (from matplotlib!=3.6.1,>=3.1->seaborn) (1.1.0)\n",
      "Requirement already satisfied: cycler>=0.10 in c:\\users\\sba\\anaconda3\\envs\\ai2\\lib\\site-packages (from matplotlib!=3.6.1,>=3.1->seaborn) (0.11.0)\n",
      "Requirement already satisfied: fonttools>=4.22.0 in c:\\users\\sba\\anaconda3\\envs\\ai2\\lib\\site-packages (from matplotlib!=3.6.1,>=3.1->seaborn) (4.42.1)\n",
      "Requirement already satisfied: kiwisolver>=1.0.1 in c:\\users\\sba\\anaconda3\\envs\\ai2\\lib\\site-packages (from matplotlib!=3.6.1,>=3.1->seaborn) (1.4.5)\n",
      "Requirement already satisfied: packaging>=20.0 in c:\\users\\sba\\anaconda3\\envs\\ai2\\lib\\site-packages (from matplotlib!=3.6.1,>=3.1->seaborn) (23.1)\n",
      "Requirement already satisfied: pillow>=6.2.0 in c:\\users\\sba\\anaconda3\\envs\\ai2\\lib\\site-packages (from matplotlib!=3.6.1,>=3.1->seaborn) (10.0.0)\n",
      "Requirement already satisfied: pyparsing<3.1,>=2.3.1 in c:\\users\\sba\\anaconda3\\envs\\ai2\\lib\\site-packages (from matplotlib!=3.6.1,>=3.1->seaborn) (3.0.9)\n",
      "Requirement already satisfied: python-dateutil>=2.7 in c:\\users\\sba\\anaconda3\\envs\\ai2\\lib\\site-packages (from matplotlib!=3.6.1,>=3.1->seaborn) (2.8.2)\n",
      "Requirement already satisfied: importlib-resources>=3.2.0 in c:\\users\\sba\\anaconda3\\envs\\ai2\\lib\\site-packages (from matplotlib!=3.6.1,>=3.1->seaborn) (6.0.1)\n",
      "Requirement already satisfied: pytz>=2020.1 in c:\\users\\sba\\anaconda3\\envs\\ai2\\lib\\site-packages (from pandas>=0.25->seaborn) (2023.3)\n",
      "Requirement already satisfied: tzdata>=2022.1 in c:\\users\\sba\\anaconda3\\envs\\ai2\\lib\\site-packages (from pandas>=0.25->seaborn) (2023.3)\n",
      "Requirement already satisfied: zipp>=3.1.0 in c:\\users\\sba\\anaconda3\\envs\\ai2\\lib\\site-packages (from importlib-resources>=3.2.0->matplotlib!=3.6.1,>=3.1->seaborn) (3.16.2)\n",
      "Requirement already satisfied: six>=1.5 in c:\\users\\sba\\anaconda3\\envs\\ai2\\lib\\site-packages (from python-dateutil>=2.7->matplotlib!=3.6.1,>=3.1->seaborn) (1.16.0)\n"
     ]
    }
   ],
   "source": [
    "!pip install seaborn"
   ]
  },
  {
   "cell_type": "code",
   "execution_count": null,
   "metadata": {},
   "outputs": [],
   "source": [
    "import seaborn as sns"
   ]
  },
  {
   "cell_type": "code",
   "execution_count": null,
   "metadata": {},
   "outputs": [],
   "source": [
    "a = 'hobby'\n",
    "a.count('b')"
   ]
  },
  {
   "cell_type": "code",
   "execution_count": 11,
   "metadata": {},
   "outputs": [
    {
     "name": "stdout",
     "output_type": "stream",
     "text": [
      "0123456789101112131415161718192021222324252627282930313233343536373839404142434445464748495051525354555657585960616263646566676869707172737475767778798081828384858687888990919293949596979899"
     ]
    }
   ],
   "source": [
    "for i in range(0,100):\n",
    "    print(i, end = '')"
   ]
  },
  {
   "cell_type": "code",
   "execution_count": 14,
   "metadata": {},
   "outputs": [],
   "source": [
    "f = open(\"새로운연습.txt\", \"w\")\n",
    "for i in range(1, 11):\n",
    "    f.write(f\"{i}번째 줄입니다.\\n\")\n",
    "f.close()"
   ]
  },
  {
   "cell_type": "code",
   "execution_count": 8,
   "metadata": {},
   "outputs": [],
   "source": [
    "f = open(\"새새로운연습.txt\", \"w\")\n",
    "for i in range(1, 11):\n",
    "    f.write(f\"{i}번째 줄\\n\")\n",
    "f.close()"
   ]
  },
  {
   "cell_type": "code",
   "execution_count": 10,
   "metadata": {},
   "outputs": [
    {
     "name": "stdout",
     "output_type": "stream",
     "text": [
      "1번째 줄입니다.\n",
      "2번째 줄입니다.\n",
      "3번째 줄입니다.\n",
      "4번째 줄입니다.\n",
      "5번째 줄입니다.\n",
      "6번째 줄입니다.\n",
      "7번째 줄입니다.\n",
      "8번째 줄입니다.\n",
      "9번째 줄입니다.\n",
      "10번째 줄입니다.\n"
     ]
    }
   ],
   "source": [
    "f = open(\"새로운연습.txt\", \"r\")\n",
    "while True:\n",
    "    line = f.readline()\n",
    "    if not line:\n",
    "        break\n",
    "    print(line, end=\"\")\n",
    "f.close()"
   ]
  },
  {
   "cell_type": "code",
   "execution_count": 7,
   "metadata": {},
   "outputs": [
    {
     "name": "stdout",
     "output_type": "stream",
     "text": [
      "['1번째 줄\\n', '2번째 줄\\n', '3번째 줄\\n', '4번째 줄\\n', '5번째 줄\\n', '6번째 줄\\n', '7번째 줄\\n', '8번째 줄\\n', '9번째 줄\\n', '10번째 줄\\n']\n",
      "1번째 줄\n",
      "\n",
      "2번째 줄\n",
      "\n",
      "3번째 줄\n",
      "\n",
      "4번째 줄\n",
      "\n",
      "5번째 줄\n",
      "\n",
      "6번째 줄\n",
      "\n",
      "7번째 줄\n",
      "\n",
      "8번째 줄\n",
      "\n",
      "9번째 줄\n",
      "\n",
      "10번째 줄\n",
      "\n"
     ]
    }
   ],
   "source": [
    "f = open(\"마지막 파일입니다.txt\", \"w\")\n",
    "for i in range(1, 11):\n",
    "    f.write(f\"{i}번째 줄\\n\")\n",
    "f.close()\n",
    "\n",
    "f = open(\"마지막 파일입니다.txt\", \"r\")\n",
    "lines = f.readlines()\n",
    "print(lines)\n",
    "for line in lines:\n",
    "    print(line)\n",
    "f.close()\n"
   ]
  },
  {
   "cell_type": "code",
   "execution_count": 19,
   "metadata": {},
   "outputs": [
    {
     "name": "stdout",
     "output_type": "stream",
     "text": [
      "1번째 줄\n",
      "2번째 줄\n",
      "3번째 줄\n",
      "4번째 줄\n",
      "5번째 줄\n",
      "6번째 줄\n",
      "7번째 줄\n",
      "8번째 줄\n",
      "9번째 줄\n",
      "10번째 줄\n",
      "\n"
     ]
    }
   ],
   "source": [
    "f = open(\"마지막 파일입니다.txt\", \"r\")\n",
    "data = f.read()\n",
    "print(data)\n",
    "f.close()"
   ]
  },
  {
   "cell_type": "code",
   "execution_count": null,
   "metadata": {},
   "outputs": [],
   "source": [
    "with open(\"진짜마지막파일입니다.txt\", \"w\") as f:\n",
    "    for i in range(1, 50):\n",
    "        f.write(f\"{i}번째 줄임\\n\")\n"
   ]
  },
  {
   "cell_type": "code",
   "execution_count": 3,
   "metadata": {},
   "outputs": [
    {
     "name": "stdout",
     "output_type": "stream",
     "text": [
      "5.0\n"
     ]
    }
   ],
   "source": [
    "def menas(*args):\n",
    "    sum = 0\n",
    "    counts = 0\n",
    "    for i in args:\n",
    "        sum = sum + i\n",
    "        counts = counts + 1\n",
    "    return sum /  counts\n",
    "print(menas(3,5,7))\n"
   ]
  },
  {
   "cell_type": "code",
   "execution_count": 4,
   "metadata": {},
   "outputs": [
    {
     "name": "stdout",
     "output_type": "stream",
     "text": [
      "6 0 9 1.0\n"
     ]
    }
   ],
   "source": [
    "def four_cal(a, b):\n",
    "    sum = a + b\n",
    "    sub = a - b\n",
    "    mul = a * b\n",
    "    div = a / b\n",
    "    print(sum, sub, mul, div)\n",
    "\n",
    "four_cal(3,3)\n"
   ]
  },
  {
   "cell_type": "code",
   "execution_count": 6,
   "metadata": {},
   "outputs": [
    {
     "name": "stdout",
     "output_type": "stream",
     "text": [
      "1500000원을 입금하셔서 현재 잔액은 2000000원입니다.\n"
     ]
    }
   ],
   "source": [
    "class accounts:\n",
    "    def __init__(self, num, name, money):\n",
    "        self.num = num\n",
    "        self.name = name\n",
    "        self.money = money\n",
    "    def deposit(self, a):\n",
    "        print(f\"{a}원을 입금하셔서 현재 잔액은 {self.money + a}원입니다.\")\n",
    "    def exit(self, b):\n",
    "        print(f\"{b}원을 출금하셔서 현재 잔액은 {self.money - b}원입니다.\")\n",
    "mymoney = accounts(110, \"차석휘\", 500000)\n",
    "mymoney.deposit(1500000)\n"
   ]
  },
  {
   "cell_type": "code",
   "execution_count": 15,
   "metadata": {},
   "outputs": [
    {
     "name": "stdout",
     "output_type": "stream",
     "text": [
      "차석휘의 게시글: Dsds\n",
      "['dsfsf']\n",
      "차석휘의 게시글: Dsdsdd\n",
      "['dsfsf']\n"
     ]
    }
   ],
   "source": [
    "#페이스북 클래스 생성\n",
    "class facebook:\n",
    "    def __init__(self, name, age, gender, insta = True):\n",
    "        self.name = name\n",
    "        self.age = age\n",
    "        self.gender = gender\n",
    "        self.insta = insta\n",
    "    def write(self, a):\n",
    "        \n",
    "        print(f\"{self.name}의 게시글: {a}\")\n",
    "        print(list_writing)\n",
    "list_writing = []\n",
    "list_writing.append(a)\n",
    "차석휘페북 = facebook(\"차석휘\", 26, \"남\")\n",
    "차석휘페북.write(\"Dsds\")\n",
    "차석휘페북.write(\"Dsdsdd\")"
   ]
  },
  {
   "cell_type": "code",
   "execution_count": 4,
   "metadata": {},
   "outputs": [
    {
     "name": "stdout",
     "output_type": "stream",
     "text": [
      "['dsfsf']\n"
     ]
    }
   ],
   "source": [
    "list = []\n",
    "a = input()\n",
    "list.append(a)\n",
    "print(list)\n"
   ]
  },
  {
   "cell_type": "code",
   "execution_count": null,
   "metadata": {},
   "outputs": [],
   "source": []
  },
  {
   "cell_type": "code",
   "execution_count": null,
   "metadata": {},
   "outputs": [],
   "source": []
  }
 ],
 "metadata": {
  "kernelspec": {
   "display_name": "base",
   "language": "python",
   "name": "python3"
  },
  "language_info": {
   "codemirror_mode": {
    "name": "ipython",
    "version": 3
   },
   "file_extension": ".py",
   "mimetype": "text/x-python",
   "name": "python",
   "nbconvert_exporter": "python",
   "pygments_lexer": "ipython3",
   "version": "3.8.17"
  },
  "orig_nbformat": 4
 },
 "nbformat": 4,
 "nbformat_minor": 2
}
