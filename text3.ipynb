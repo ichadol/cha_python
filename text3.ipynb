{
 "cells": [
  {
   "cell_type": "code",
   "execution_count": 4,
   "metadata": {},
   "outputs": [],
   "source": [
    "def sum(a, b):\n",
    "    result = a + b\n",
    "    return result\n"
   ]
  },
  {
   "cell_type": "code",
   "execution_count": 10,
   "metadata": {},
   "outputs": [
    {
     "name": "stdout",
     "output_type": "stream",
     "text": [
      "hi\n"
     ]
    }
   ],
   "source": [
    "def say():\n",
    "    return 'hi'\n",
    "\n",
    "print(say())"
   ]
  },
  {
   "cell_type": "code",
   "execution_count": 18,
   "metadata": {},
   "outputs": [
    {
     "name": "stdout",
     "output_type": "stream",
     "text": [
      "7\n"
     ]
    }
   ],
   "source": [
    "def sum2(a, b):\n",
    "    print(a+b)\n",
    "sum2(3, 4)"
   ]
  },
  {
   "cell_type": "code",
   "execution_count": 28,
   "metadata": {},
   "outputs": [
    {
     "name": "stdout",
     "output_type": "stream",
     "text": [
      "나의 이름은 차석휘입니다\n",
      "나의 이름은 26입니다\n",
      "남자입니다\n",
      "나의 이름은 차석휘입니다\n",
      "나의 이름은 26입니다\n",
      "남자입니다\n"
     ]
    }
   ],
   "source": [
    "def say_myself(name, old, man = True):\n",
    "    print(f'나의 이름은 {name}입니다')\n",
    "    print(f'나의 이름은 {old}입니다')\n",
    "    if man:\n",
    "        print(\"남자입니다\")\n",
    "    else:\n",
    "        print(\"여자입니다\")\n",
    "\n",
    "say_myself(\"차석휘\", 26)\n",
    "say_myself(name =\"차석휘\", old =26)"
   ]
  },
  {
   "cell_type": "code",
   "execution_count": 61,
   "metadata": {},
   "outputs": [
    {
     "name": "stdout",
     "output_type": "stream",
     "text": [
      "22.8\n"
     ]
    }
   ],
   "source": [
    "def means(*args):\n",
    "    sum = 0\n",
    "    count = 0\n",
    "    for i in args:\n",
    "        sum = sum + i\n",
    "        count = count + 1\n",
    "\n",
    "    return sum / count\n",
    "\n",
    "print(means(3, 6, 87, 9, 9))"
   ]
  },
  {
   "cell_type": "code",
   "execution_count": 60,
   "metadata": {},
   "outputs": [
    {
     "name": "stdout",
     "output_type": "stream",
     "text": [
      "9\n",
      "-3\n",
      "18\n",
      "0.5\n"
     ]
    }
   ],
   "source": [
    "def 사칙연산(a, b):\n",
    "    sum = a + b\n",
    "    minus = a - b\n",
    "    multi = a * b\n",
    "    나누기 = a / b\n",
    "    print(sum)\n",
    "    print(minus)\n",
    "    print(multi)\n",
    "    print(나누기)\n",
    "\n",
    "\n",
    "사칙연산(3, 6)"
   ]
  },
  {
   "cell_type": "code",
   "execution_count": 62,
   "metadata": {},
   "outputs": [],
   "source": [
    "def test3():\n",
    "    global local_var\n",
    "    local_var = 20\n"
   ]
  },
  {
   "cell_type": "code",
   "execution_count": 76,
   "metadata": {},
   "outputs": [
    {
     "data": {
      "text/plain": [
       "(4, 2, 3, 3.0)"
      ]
     },
     "execution_count": 76,
     "metadata": {},
     "output_type": "execute_result"
    }
   ],
   "source": [
    "def cal():\n",
    "    num1 = int(input(\"첫번째 숫자\"))\n",
    "    num2 = int(input(\"두번째 숫자\"))\n",
    "    return num1 + num2, num1 - num2, num1*num2, num1/num2\n",
    "cal()\n",
    "\n"
   ]
  },
  {
   "cell_type": "code",
   "execution_count": 81,
   "metadata": {},
   "outputs": [
    {
     "name": "stdout",
     "output_type": "stream",
     "text": [
      "CHA SEOK HUI\n",
      "26\n",
      "CHA SEOK HUIis walking.\n"
     ]
    }
   ],
   "source": [
    "class Person:\n",
    "    def __init__(self, name, age, gender):\n",
    "        self.name = name\n",
    "        self.age = age\n",
    "        self.gender = gender\n",
    "    def walk(self):\n",
    "        print(self.name + \"is walking.\")\n",
    "CHA = Person(\"CHA SEOK HUI\", 26, \"Male\")\n",
    "print(CHA.name)\n",
    "print(CHA.age)\n",
    "CHA.walk()\n",
    "\n",
    "\n"
   ]
  },
  {
   "cell_type": "code",
   "execution_count": 95,
   "metadata": {},
   "outputs": [
    {
     "name": "stdout",
     "output_type": "stream",
     "text": [
      "10 20\n",
      "30\n"
     ]
    }
   ],
   "source": [
    "class FourCal:\n",
    "    def setdata(self, a, b):\n",
    "        self.a = a\n",
    "        self.b = b\n",
    "    def add(self):\n",
    "        return self.a + self.b\n",
    "\n",
    "k = FourCal()\n",
    "k.setdata(10, 20)\n",
    "print(k.a,k.b)\n",
    "print(k.add())\n",
    "\n"
   ]
  },
  {
   "cell_type": "code",
   "execution_count": 120,
   "metadata": {},
   "outputs": [
    {
     "data": {
      "text/plain": [
       "40"
      ]
     },
     "execution_count": 120,
     "metadata": {},
     "output_type": "execute_result"
    }
   ],
   "source": [
    "class FourCal:\n",
    "    def __init__(self, a, b):\n",
    "        self.a = a\n",
    "        self.b = b\n",
    "    def add(self):\n",
    "        print(self.a + self.b)\n",
    "    def minus(self, c):\n",
    "        return c\n",
    "    def multi(self):\n",
    "        print(self.a * self.b)\n",
    "    def divide(self):\n",
    "        print(self.a / self.b)\n",
    "    \n",
    "first = FourCal(10, 40)\n",
    "first.minus(40)\n"
   ]
  },
  {
   "cell_type": "code",
   "execution_count": 143,
   "metadata": {},
   "outputs": [
    {
     "name": "stdout",
     "output_type": "stream",
     "text": [
      "예금액은 30원 입니다\n",
      "예금액은 30원 입니다\n",
      "예금액은 30원 입니다\n",
      "예금액은 30원 입니다\n",
      "예금액은 30원 입니다\n"
     ]
    },
    {
     "data": {
      "text/plain": [
       "3150"
      ]
     },
     "execution_count": 143,
     "metadata": {},
     "output_type": "execute_result"
    }
   ],
   "source": [
    "class BackAccount:\n",
    "    def __init__(self, account, name, firstmoney):\n",
    "        self.account = account\n",
    "        self.name = name\n",
    "        self.firstmoney = firstmoney\n",
    "\n",
    "    def deposit(self, a):\n",
    "        self.firstmoney = self.firstmoney + a\n",
    "        print(f\"예금액은 {a}원 입니다\")\n",
    "    def withdraw(self, b):\n",
    "        self.firstmoney = self.firstmoney - b\n",
    "        print(f\"출금액은 {b}입니다\")\n",
    "  \n",
    "\n",
    "cha = BackAccount(110, \"차석휘\", 3000)\n",
    "cha.account\n",
    "cha.deposit(30)\n",
    "cha.deposit(30)\n",
    "cha.deposit(30)\n",
    "cha.deposit(30)\n",
    "cha.deposit(30)\n",
    "\n",
    "cha.firstmoney\n"
   ]
  },
  {
   "cell_type": "code",
   "execution_count": 149,
   "metadata": {},
   "outputs": [
    {
     "data": {
      "text/plain": [
       "0"
      ]
     },
     "execution_count": 149,
     "metadata": {},
     "output_type": "execute_result"
    }
   ],
   "source": [
    "class MoreFourCal(FourCal):\n",
    "    def divide(self):\n",
    "        if self.b == 0:\n",
    "            return 0\n",
    "        else:\n",
    "            return self.a / self.b\n",
    "\n",
    "ww = MoreFourCal(30, 0)\n",
    "ww.divide()"
   ]
  }
 ],
 "metadata": {
  "kernelspec": {
   "display_name": "ai2",
   "language": "python",
   "name": "python3"
  },
  "language_info": {
   "codemirror_mode": {
    "name": "ipython",
    "version": 3
   },
   "file_extension": ".py",
   "mimetype": "text/x-python",
   "name": "python",
   "nbconvert_exporter": "python",
   "pygments_lexer": "ipython3",
   "version": "3.8.17"
  },
  "orig_nbformat": 4
 },
 "nbformat": 4,
 "nbformat_minor": 2
}
