{
 "cells": [
  {
   "cell_type": "code",
   "execution_count": 13,
   "metadata": {},
   "outputs": [
    {
     "data": {
      "text/plain": [
       "1.0"
      ]
     },
     "execution_count": 13,
     "metadata": {},
     "output_type": "execute_result"
    }
   ],
   "source": [
    "score1 = 10\n",
    "score2 = 20\n",
    "score3 = 30\n",
    "n = 3\n",
    "평균 = (score1 + score2 + score3) / n\n",
    "평균의_제곱 = 평균 **2\n",
    "제곱의_평균 = (score1 **2 + score2 **2 + score3 **2) / n\n",
    "분산 = 제곱의_평균 - 평균의_제곱\n",
    "표준편차 = 분산 ** (1/2)\n",
    "재정의_점수1 = (score1 - 평균) / 표준편차\n",
    "재정의_점수2 = (score2 - 평균) / 표준편차\n",
    "재정의_점수3 = (score3 - 평균) / 표준편차\n",
    "재정의_평균 = (재정의_점수1 + 재정의_점수2 + 재정의_점수3) / n\n",
    "재정의_평균의_제곱 = 재정의_평균 ** 2\n",
    "재정의_제곱의_평균 = ((재정의_점수1 **2) + (재정의_점수2 **2) + (재정의_점수3 **2)) / n\n",
    "재정의_분산 = 재정의_제곱의_평균 - 재정의_평균의_제곱\n",
    "재정의_표준편차 = 재정의_분산 ** (1/2)\n",
    "재정의_표준편차\n",
    "\n"
   ]
  }
 ],
 "metadata": {
  "kernelspec": {
   "display_name": "ai2",
   "language": "python",
   "name": "python3"
  },
  "language_info": {
   "codemirror_mode": {
    "name": "ipython",
    "version": 3
   },
   "file_extension": ".py",
   "mimetype": "text/x-python",
   "name": "python",
   "nbconvert_exporter": "python",
   "pygments_lexer": "ipython3",
   "version": "3.8.17"
  },
  "orig_nbformat": 4
 },
 "nbformat": 4,
 "nbformat_minor": 2
}
