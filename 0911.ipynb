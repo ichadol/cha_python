{
 "cells": [
  {
   "cell_type": "markdown",
   "metadata": {},
   "source": [
    "### pandas"
   ]
  },
  {
   "cell_type": "code",
   "execution_count": 13,
   "metadata": {},
   "outputs": [
    {
     "data": {
      "text/plain": [
       "0    1000\n",
       "1    1010\n",
       "2    1020\n",
       "dtype: int64"
      ]
     },
     "execution_count": 13,
     "metadata": {},
     "output_type": "execute_result"
    }
   ],
   "source": [
    "import pandas as pd\n",
    "prices = [1000, 1010, 1020]\n",
    "series1 = pd.Series(prices)\n",
    "series1"
   ]
  },
  {
   "cell_type": "code",
   "execution_count": 14,
   "metadata": {},
   "outputs": [
    {
     "data": {
      "text/plain": [
       "2023-01-01    1000\n",
       "2023-01-02    1010\n",
       "2023-01-03    1020\n",
       "Freq: D, dtype: int64"
      ]
     },
     "execution_count": 14,
     "metadata": {},
     "output_type": "execute_result"
    }
   ],
   "source": [
    "dates = pd.date_range('20230101', periods = 3)\n",
    "series2 = pd.Series(prices, index = dates)\n",
    "series2"
   ]
  },
  {
   "cell_type": "code",
   "execution_count": 15,
   "metadata": {},
   "outputs": [
    {
     "name": "stdout",
     "output_type": "stream",
     "text": [
      "DatetimeIndex(['2022-01-31', '2022-02-28', '2022-03-31', '2022-04-30',\n",
      "               '2022-05-31', '2022-06-30', '2022-07-31', '2022-08-31',\n",
      "               '2022-09-30', '2022-10-31', '2022-11-30', '2022-12-31'],\n",
      "              dtype='datetime64[ns]', freq='M')\n",
      "DatetimeIndex(['2022-01-01', '2022-02-01', '2022-03-01', '2022-04-01',\n",
      "               '2022-05-01', '2022-06-01', '2022-07-01', '2022-08-01',\n",
      "               '2022-09-01', '2022-10-01', '2022-11-01', '2022-12-01',\n",
      "               '2023-01-01'],\n",
      "              dtype='datetime64[ns]', freq='MS')\n"
     ]
    }
   ],
   "source": [
    "print(pd.date_range('2022-01-01', '2023-01-01', freq = 'M')) #월말\n",
    "print(pd.date_range('2022-01-01', '2023-01-01', freq = 'MS')) #월초"
   ]
  },
  {
   "cell_type": "code",
   "execution_count": 25,
   "metadata": {},
   "outputs": [
    {
     "data": {
      "text/plain": [
       "2023-01-01    1000\n",
       "2023-01-02    1010\n",
       "2023-01-03    1080\n",
       "2023-01-04    1030\n",
       "Freq: D, dtype: int64"
      ]
     },
     "execution_count": 25,
     "metadata": {},
     "output_type": "execute_result"
    }
   ],
   "source": [
    "series2['2023-01-04'] = 1030\n",
    "series2"
   ]
  },
  {
   "cell_type": "code",
   "execution_count": 17,
   "metadata": {},
   "outputs": [
    {
     "data": {
      "text/plain": [
       "2023-01-02    1010\n",
       "2023-01-03    1020\n",
       "Freq: D, dtype: int64"
      ]
     },
     "execution_count": 17,
     "metadata": {},
     "output_type": "execute_result"
    }
   ],
   "source": [
    "series2[1:3]"
   ]
  },
  {
   "cell_type": "code",
   "execution_count": 18,
   "metadata": {},
   "outputs": [
    {
     "data": {
      "text/plain": [
       "1020"
      ]
     },
     "execution_count": 18,
     "metadata": {},
     "output_type": "execute_result"
    }
   ],
   "source": [
    "series2[2]\n",
    "series2['2023-01-03']"
   ]
  },
  {
   "cell_type": "code",
   "execution_count": 26,
   "metadata": {},
   "outputs": [
    {
     "data": {
      "text/plain": [
       "2023-01-01    1000\n",
       "2023-01-02    1010\n",
       "2023-01-03    1080\n",
       "2023-01-04    1030\n",
       "Freq: D, dtype: int64"
      ]
     },
     "execution_count": 26,
     "metadata": {},
     "output_type": "execute_result"
    }
   ],
   "source": [
    "series2[2] = 1080\n",
    "series2"
   ]
  },
  {
   "cell_type": "markdown",
   "metadata": {},
   "source": [
    "## DATAFRAME"
   ]
  },
  {
   "cell_type": "code",
   "execution_count": 37,
   "metadata": {},
   "outputs": [
    {
     "data": {
      "text/plain": [
       "70200"
      ]
     },
     "execution_count": 37,
     "metadata": {},
     "output_type": "execute_result"
    }
   ],
   "source": [
    "prices = {'SK텔레콤' :  [44000, 44500, 45000],\n",
    "          '삼성전자': [70100, 70200, 70300],\n",
    "          'LG전자' : [85000, 85500, 86000]}\n",
    "df1 = pd.DataFrame(prices, index = [1,2,3])\n",
    "df1.iloc[1,1]\n"
   ]
  },
  {
   "cell_type": "code",
   "execution_count": 38,
   "metadata": {},
   "outputs": [
    {
     "data": {
      "text/html": [
       "<div>\n",
       "<style scoped>\n",
       "    .dataframe tbody tr th:only-of-type {\n",
       "        vertical-align: middle;\n",
       "    }\n",
       "\n",
       "    .dataframe tbody tr th {\n",
       "        vertical-align: top;\n",
       "    }\n",
       "\n",
       "    .dataframe thead th {\n",
       "        text-align: right;\n",
       "    }\n",
       "</style>\n",
       "<table border=\"1\" class=\"dataframe\">\n",
       "  <thead>\n",
       "    <tr style=\"text-align: right;\">\n",
       "      <th></th>\n",
       "      <th>SK텔레콤</th>\n",
       "      <th>삼성전자</th>\n",
       "      <th>LG전자</th>\n",
       "    </tr>\n",
       "  </thead>\n",
       "  <tbody>\n",
       "    <tr>\n",
       "      <th>2023-01-01</th>\n",
       "      <td>44000</td>\n",
       "      <td>70100</td>\n",
       "      <td>85000</td>\n",
       "    </tr>\n",
       "    <tr>\n",
       "      <th>2023-01-02</th>\n",
       "      <td>44500</td>\n",
       "      <td>70200</td>\n",
       "      <td>85500</td>\n",
       "    </tr>\n",
       "    <tr>\n",
       "      <th>2023-01-03</th>\n",
       "      <td>45000</td>\n",
       "      <td>70300</td>\n",
       "      <td>86000</td>\n",
       "    </tr>\n",
       "  </tbody>\n",
       "</table>\n",
       "</div>"
      ],
      "text/plain": [
       "            SK텔레콤   삼성전자   LG전자\n",
       "2023-01-01  44000  70100  85000\n",
       "2023-01-02  44500  70200  85500\n",
       "2023-01-03  45000  70300  86000"
      ]
     },
     "execution_count": 38,
     "metadata": {},
     "output_type": "execute_result"
    }
   ],
   "source": [
    "df2 = pd.DataFrame(prices, index = dates)\n",
    "df2"
   ]
  },
  {
   "cell_type": "markdown",
   "metadata": {},
   "source": [
    "### 데이터 선택\n",
    "- loc : index, column으로 데이터를 가져온다.\n",
    "- iloc: 데이터 순서로 데이터를 가져온다."
   ]
  },
  {
   "cell_type": "code",
   "execution_count": 39,
   "metadata": {},
   "outputs": [
    {
     "data": {
      "text/plain": [
       "SK텔레콤    44000\n",
       "삼성전자     70100\n",
       "LG전자     85000\n",
       "Name: 2023-01-01 00:00:00, dtype: int64"
      ]
     },
     "execution_count": 39,
     "metadata": {},
     "output_type": "execute_result"
    }
   ],
   "source": [
    "df2.iloc[0]"
   ]
  },
  {
   "cell_type": "code",
   "execution_count": null,
   "metadata": {},
   "outputs": [
    {
     "data": {
      "text/plain": [
       "44000"
      ]
     },
     "execution_count": 32,
     "metadata": {},
     "output_type": "execute_result"
    }
   ],
   "source": [
    "df2.iloc[:, 0] #row는 전체 모두, column은 첫 번째만\n",
    "df2.iloc[0,0] #sk텔레콤의 01-01\n"
   ]
  },
  {
   "cell_type": "code",
   "execution_count": 40,
   "metadata": {},
   "outputs": [
    {
     "data": {
      "text/plain": [
       "2023-01-01    44000\n",
       "2023-01-02    44500\n",
       "2023-01-03    45000\n",
       "Freq: D, Name: SK텔레콤, dtype: int64"
      ]
     },
     "execution_count": 40,
     "metadata": {},
     "output_type": "execute_result"
    }
   ],
   "source": [
    "df2.loc['2023-01-02']\n",
    "df2.loc[:, 'SK텔레콤']\n"
   ]
  },
  {
   "cell_type": "code",
   "execution_count": 41,
   "metadata": {},
   "outputs": [
    {
     "data": {
      "text/html": [
       "<div>\n",
       "<style scoped>\n",
       "    .dataframe tbody tr th:only-of-type {\n",
       "        vertical-align: middle;\n",
       "    }\n",
       "\n",
       "    .dataframe tbody tr th {\n",
       "        vertical-align: top;\n",
       "    }\n",
       "\n",
       "    .dataframe thead th {\n",
       "        text-align: right;\n",
       "    }\n",
       "</style>\n",
       "<table border=\"1\" class=\"dataframe\">\n",
       "  <thead>\n",
       "    <tr style=\"text-align: right;\">\n",
       "      <th></th>\n",
       "      <th>SK텔레콤</th>\n",
       "      <th>삼성전자</th>\n",
       "      <th>LG전자</th>\n",
       "      <th>POSCO</th>\n",
       "    </tr>\n",
       "  </thead>\n",
       "  <tbody>\n",
       "    <tr>\n",
       "      <th>2023-01-01</th>\n",
       "      <td>44000</td>\n",
       "      <td>70100</td>\n",
       "      <td>85000</td>\n",
       "      <td>450000</td>\n",
       "    </tr>\n",
       "    <tr>\n",
       "      <th>2023-01-02</th>\n",
       "      <td>44500</td>\n",
       "      <td>70200</td>\n",
       "      <td>85500</td>\n",
       "      <td>455000</td>\n",
       "    </tr>\n",
       "    <tr>\n",
       "      <th>2023-01-03</th>\n",
       "      <td>45000</td>\n",
       "      <td>70300</td>\n",
       "      <td>86000</td>\n",
       "      <td>460000</td>\n",
       "    </tr>\n",
       "  </tbody>\n",
       "</table>\n",
       "</div>"
      ],
      "text/plain": [
       "            SK텔레콤   삼성전자   LG전자   POSCO\n",
       "2023-01-01  44000  70100  85000  450000\n",
       "2023-01-02  44500  70200  85500  455000\n",
       "2023-01-03  45000  70300  86000  460000"
      ]
     },
     "execution_count": 41,
     "metadata": {},
     "output_type": "execute_result"
    }
   ],
   "source": [
    "df2['SK텔레콤']\n",
    "df2.SK텔레콤\n",
    "df2['POSCO'] = [450000, 455000, 460000]\n",
    "df2\n"
   ]
  },
  {
   "cell_type": "code",
   "execution_count": null,
   "metadata": {},
   "outputs": [
    {
     "name": "stdout",
     "output_type": "stream",
     "text": [
      "             삼성전자   LG전자\n",
      "2023-01-02  70200  85500\n",
      "2023-01-03  70300  86000\n"
     ]
    }
   ],
   "source": [
    "print(df2.iloc[1:,1:3])"
   ]
  },
  {
   "cell_type": "code",
   "execution_count": null,
   "metadata": {},
   "outputs": [
    {
     "name": "stdout",
     "output_type": "stream",
     "text": [
      "             삼성전자   LG전자\n",
      "2023-01-02  70200  85500\n",
      "2023-01-03  70300  86000\n"
     ]
    }
   ],
   "source": []
  },
  {
   "cell_type": "code",
   "execution_count": null,
   "metadata": {},
   "outputs": [
    {
     "name": "stdout",
     "output_type": "stream",
     "text": [
      "70200\n"
     ]
    }
   ],
   "source": []
  },
  {
   "cell_type": "code",
   "execution_count": 42,
   "metadata": {},
   "outputs": [
    {
     "name": "stdout",
     "output_type": "stream",
     "text": [
      "70200\n"
     ]
    }
   ],
   "source": [
    "print(df2.loc['2023-01-02', '삼성전자'])"
   ]
  },
  {
   "cell_type": "markdown",
   "metadata": {},
   "source": [
    "### 데이터 프레임 확장\n",
    "- concat : 그냥 가져다 붙이는 거\n",
    "- merge : 공통된 칼럼이나 인덱스가 있는 경우"
   ]
  },
  {
   "cell_type": "code",
   "execution_count": 48,
   "metadata": {},
   "outputs": [],
   "source": [
    "s1 = pd.Series([500000, 500500, 501000], name = 'LG화학')"
   ]
  },
  {
   "cell_type": "code",
   "execution_count": 49,
   "metadata": {},
   "outputs": [
    {
     "data": {
      "text/html": [
       "<div>\n",
       "<style scoped>\n",
       "    .dataframe tbody tr th:only-of-type {\n",
       "        vertical-align: middle;\n",
       "    }\n",
       "\n",
       "    .dataframe tbody tr th {\n",
       "        vertical-align: top;\n",
       "    }\n",
       "\n",
       "    .dataframe thead th {\n",
       "        text-align: right;\n",
       "    }\n",
       "</style>\n",
       "<table border=\"1\" class=\"dataframe\">\n",
       "  <thead>\n",
       "    <tr style=\"text-align: right;\">\n",
       "      <th></th>\n",
       "      <th>SK텔레콤</th>\n",
       "      <th>삼성전자</th>\n",
       "      <th>LG전자</th>\n",
       "      <th>POSCO</th>\n",
       "      <th>LG화학</th>\n",
       "    </tr>\n",
       "  </thead>\n",
       "  <tbody>\n",
       "    <tr>\n",
       "      <th>2023-01-01 00:00:00</th>\n",
       "      <td>44000.0</td>\n",
       "      <td>70100.0</td>\n",
       "      <td>85000.0</td>\n",
       "      <td>450000.0</td>\n",
       "      <td>NaN</td>\n",
       "    </tr>\n",
       "    <tr>\n",
       "      <th>2023-01-02 00:00:00</th>\n",
       "      <td>44500.0</td>\n",
       "      <td>70200.0</td>\n",
       "      <td>85500.0</td>\n",
       "      <td>455000.0</td>\n",
       "      <td>NaN</td>\n",
       "    </tr>\n",
       "    <tr>\n",
       "      <th>2023-01-03 00:00:00</th>\n",
       "      <td>45000.0</td>\n",
       "      <td>70300.0</td>\n",
       "      <td>86000.0</td>\n",
       "      <td>460000.0</td>\n",
       "      <td>NaN</td>\n",
       "    </tr>\n",
       "    <tr>\n",
       "      <th>0</th>\n",
       "      <td>NaN</td>\n",
       "      <td>NaN</td>\n",
       "      <td>NaN</td>\n",
       "      <td>NaN</td>\n",
       "      <td>500000.0</td>\n",
       "    </tr>\n",
       "    <tr>\n",
       "      <th>1</th>\n",
       "      <td>NaN</td>\n",
       "      <td>NaN</td>\n",
       "      <td>NaN</td>\n",
       "      <td>NaN</td>\n",
       "      <td>500500.0</td>\n",
       "    </tr>\n",
       "    <tr>\n",
       "      <th>2</th>\n",
       "      <td>NaN</td>\n",
       "      <td>NaN</td>\n",
       "      <td>NaN</td>\n",
       "      <td>NaN</td>\n",
       "      <td>501000.0</td>\n",
       "    </tr>\n",
       "  </tbody>\n",
       "</table>\n",
       "</div>"
      ],
      "text/plain": [
       "                       SK텔레콤     삼성전자     LG전자     POSCO      LG화학\n",
       "2023-01-01 00:00:00  44000.0  70100.0  85000.0  450000.0       NaN\n",
       "2023-01-02 00:00:00  44500.0  70200.0  85500.0  455000.0       NaN\n",
       "2023-01-03 00:00:00  45000.0  70300.0  86000.0  460000.0       NaN\n",
       "0                        NaN      NaN      NaN       NaN  500000.0\n",
       "1                        NaN      NaN      NaN       NaN  500500.0\n",
       "2                        NaN      NaN      NaN       NaN  501000.0"
      ]
     },
     "execution_count": 49,
     "metadata": {},
     "output_type": "execute_result"
    }
   ],
   "source": [
    "concat_df2 = pd.concat([df2, s1], axis = 1)\n",
    "concat_df2\n"
   ]
  },
  {
   "cell_type": "markdown",
   "metadata": {},
   "source": [
    "## axis = 1은 열방향으로 값이 나타남(무조건 나타나는 값기준)\n",
    "## axis = 0은 행방향으로 값이 나타남(무조건 나타나는 값기준)"
   ]
  },
  {
   "cell_type": "code",
   "execution_count": null,
   "metadata": {},
   "outputs": [
    {
     "data": {
      "text/html": [
       "<div>\n",
       "<style scoped>\n",
       "    .dataframe tbody tr th:only-of-type {\n",
       "        vertical-align: middle;\n",
       "    }\n",
       "\n",
       "    .dataframe tbody tr th {\n",
       "        vertical-align: top;\n",
       "    }\n",
       "\n",
       "    .dataframe thead th {\n",
       "        text-align: right;\n",
       "    }\n",
       "</style>\n",
       "<table border=\"1\" class=\"dataframe\">\n",
       "  <thead>\n",
       "    <tr style=\"text-align: right;\">\n",
       "      <th></th>\n",
       "      <th>SK텔레콤</th>\n",
       "      <th>삼성전자</th>\n",
       "      <th>LG전자</th>\n",
       "      <th>POSCO</th>\n",
       "      <th>LG화학</th>\n",
       "      <th>LG화학500더하기</th>\n",
       "    </tr>\n",
       "  </thead>\n",
       "  <tbody>\n",
       "    <tr>\n",
       "      <th>2023-01-01</th>\n",
       "      <td>44000</td>\n",
       "      <td>70100</td>\n",
       "      <td>85000</td>\n",
       "      <td>450000</td>\n",
       "      <td>500000</td>\n",
       "      <td>500500</td>\n",
       "    </tr>\n",
       "    <tr>\n",
       "      <th>2023-01-02</th>\n",
       "      <td>44500</td>\n",
       "      <td>70200</td>\n",
       "      <td>85500</td>\n",
       "      <td>455000</td>\n",
       "      <td>500500</td>\n",
       "      <td>501000</td>\n",
       "    </tr>\n",
       "    <tr>\n",
       "      <th>2023-01-03</th>\n",
       "      <td>45000</td>\n",
       "      <td>70300</td>\n",
       "      <td>86000</td>\n",
       "      <td>460000</td>\n",
       "      <td>501000</td>\n",
       "      <td>501500</td>\n",
       "    </tr>\n",
       "  </tbody>\n",
       "</table>\n",
       "</div>"
      ],
      "text/plain": [
       "            SK텔레콤   삼성전자   LG전자   POSCO    LG화학  LG화학500더하기\n",
       "2023-01-01  44000  70100  85000  450000  500000      500500\n",
       "2023-01-02  44500  70200  85500  455000  500500      501000\n",
       "2023-01-03  45000  70300  86000  460000  501000      501500"
      ]
     },
     "execution_count": 136,
     "metadata": {},
     "output_type": "execute_result"
    }
   ],
   "source": [
    "concat_df2['LG화학500더하기'] = concat_df2['LG화학'] + 500\n",
    "concat_df2"
   ]
  },
  {
   "cell_type": "code",
   "execution_count": null,
   "metadata": {},
   "outputs": [
    {
     "data": {
      "text/html": [
       "<div>\n",
       "<style scoped>\n",
       "    .dataframe tbody tr th:only-of-type {\n",
       "        vertical-align: middle;\n",
       "    }\n",
       "\n",
       "    .dataframe tbody tr th {\n",
       "        vertical-align: top;\n",
       "    }\n",
       "\n",
       "    .dataframe thead th {\n",
       "        text-align: right;\n",
       "    }\n",
       "</style>\n",
       "<table border=\"1\" class=\"dataframe\">\n",
       "  <thead>\n",
       "    <tr style=\"text-align: right;\">\n",
       "      <th></th>\n",
       "      <th>SK텔레콤</th>\n",
       "      <th>삼성전자</th>\n",
       "      <th>LG전자</th>\n",
       "      <th>POSCO</th>\n",
       "      <th>LG화학</th>\n",
       "      <th>LG화학500더하기</th>\n",
       "    </tr>\n",
       "  </thead>\n",
       "  <tbody>\n",
       "    <tr>\n",
       "      <th>2023-01-01</th>\n",
       "      <td>44000.0</td>\n",
       "      <td>70100.0</td>\n",
       "      <td>85000.0</td>\n",
       "      <td>450000.0</td>\n",
       "      <td>500000.0</td>\n",
       "      <td>500500.0</td>\n",
       "    </tr>\n",
       "    <tr>\n",
       "      <th>2023-01-02</th>\n",
       "      <td>44500.0</td>\n",
       "      <td>70200.0</td>\n",
       "      <td>85500.0</td>\n",
       "      <td>455000.0</td>\n",
       "      <td>500500.0</td>\n",
       "      <td>501000.0</td>\n",
       "    </tr>\n",
       "    <tr>\n",
       "      <th>2023-01-03</th>\n",
       "      <td>45000.0</td>\n",
       "      <td>70300.0</td>\n",
       "      <td>86000.0</td>\n",
       "      <td>460000.0</td>\n",
       "      <td>501000.0</td>\n",
       "      <td>501500.0</td>\n",
       "    </tr>\n",
       "    <tr>\n",
       "      <th>2023-01-06</th>\n",
       "      <td>44000.0</td>\n",
       "      <td>70100.0</td>\n",
       "      <td>85000.0</td>\n",
       "      <td>455000.0</td>\n",
       "      <td>505000.0</td>\n",
       "      <td>550000.0</td>\n",
       "    </tr>\n",
       "  </tbody>\n",
       "</table>\n",
       "</div>"
      ],
      "text/plain": [
       "              SK텔레콤     삼성전자     LG전자     POSCO      LG화학  LG화학500더하기\n",
       "2023-01-01  44000.0  70100.0  85000.0  450000.0  500000.0    500500.0\n",
       "2023-01-02  44500.0  70200.0  85500.0  455000.0  500500.0    501000.0\n",
       "2023-01-03  45000.0  70300.0  86000.0  460000.0  501000.0    501500.0\n",
       "2023-01-06  44000.0  70100.0  85000.0  455000.0  505000.0    550000.0"
      ]
     },
     "execution_count": 142,
     "metadata": {},
     "output_type": "execute_result"
    }
   ],
   "source": [
    "concat_df2.loc['2023-01-06', :] =  [44000, 70100, 85000, 455000, 505000, 550000]\n",
    "concat_df2"
   ]
  },
  {
   "cell_type": "code",
   "execution_count": null,
   "metadata": {},
   "outputs": [
    {
     "data": {
      "text/html": [
       "<div>\n",
       "<style scoped>\n",
       "    .dataframe tbody tr th:only-of-type {\n",
       "        vertical-align: middle;\n",
       "    }\n",
       "\n",
       "    .dataframe tbody tr th {\n",
       "        vertical-align: top;\n",
       "    }\n",
       "\n",
       "    .dataframe thead th {\n",
       "        text-align: right;\n",
       "    }\n",
       "</style>\n",
       "<table border=\"1\" class=\"dataframe\">\n",
       "  <thead>\n",
       "    <tr style=\"text-align: right;\">\n",
       "      <th></th>\n",
       "      <th>SK텔레콤</th>\n",
       "      <th>삼성전자</th>\n",
       "      <th>LG전자</th>\n",
       "      <th>POSCO</th>\n",
       "      <th>LG화학</th>\n",
       "      <th>LG화학500더하기</th>\n",
       "    </tr>\n",
       "  </thead>\n",
       "  <tbody>\n",
       "    <tr>\n",
       "      <th>2023-01-01</th>\n",
       "      <td>44000.0</td>\n",
       "      <td>70100.0</td>\n",
       "      <td>85000.0</td>\n",
       "      <td>450000.0</td>\n",
       "      <td>500000.0</td>\n",
       "      <td>500500.0</td>\n",
       "    </tr>\n",
       "    <tr>\n",
       "      <th>2023-01-02</th>\n",
       "      <td>44500.0</td>\n",
       "      <td>70200.0</td>\n",
       "      <td>85500.0</td>\n",
       "      <td>455000.0</td>\n",
       "      <td>500500.0</td>\n",
       "      <td>501000.0</td>\n",
       "    </tr>\n",
       "    <tr>\n",
       "      <th>2023-01-03</th>\n",
       "      <td>45000.0</td>\n",
       "      <td>70300.0</td>\n",
       "      <td>86000.0</td>\n",
       "      <td>460000.0</td>\n",
       "      <td>501000.0</td>\n",
       "      <td>501500.0</td>\n",
       "    </tr>\n",
       "    <tr>\n",
       "      <th>2023-01-06</th>\n",
       "      <td>44000.0</td>\n",
       "      <td>70100.0</td>\n",
       "      <td>85000.0</td>\n",
       "      <td>455000.0</td>\n",
       "      <td>505000.0</td>\n",
       "      <td>550000.0</td>\n",
       "    </tr>\n",
       "    <tr>\n",
       "      <th>2023-01-05</th>\n",
       "      <td>43900.0</td>\n",
       "      <td>70000.0</td>\n",
       "      <td>84900.0</td>\n",
       "      <td>454900.0</td>\n",
       "      <td>504900.0</td>\n",
       "      <td>549900.0</td>\n",
       "    </tr>\n",
       "  </tbody>\n",
       "</table>\n",
       "</div>"
      ],
      "text/plain": [
       "              SK텔레콤     삼성전자     LG전자     POSCO      LG화학  LG화학500더하기\n",
       "2023-01-01  44000.0  70100.0  85000.0  450000.0  500000.0    500500.0\n",
       "2023-01-02  44500.0  70200.0  85500.0  455000.0  500500.0    501000.0\n",
       "2023-01-03  45000.0  70300.0  86000.0  460000.0  501000.0    501500.0\n",
       "2023-01-06  44000.0  70100.0  85000.0  455000.0  505000.0    550000.0\n",
       "2023-01-05  43900.0  70000.0  84900.0  454900.0  504900.0    549900.0"
      ]
     },
     "execution_count": 145,
     "metadata": {},
     "output_type": "execute_result"
    }
   ],
   "source": [
    "concat_df2.loc['2023-01-05', :] = concat_df2.loc['2023-01-06'] - 100\n",
    "concat_df2"
   ]
  },
  {
   "cell_type": "code",
   "execution_count": null,
   "metadata": {},
   "outputs": [
    {
     "data": {
      "text/html": [
       "<div>\n",
       "<style scoped>\n",
       "    .dataframe tbody tr th:only-of-type {\n",
       "        vertical-align: middle;\n",
       "    }\n",
       "\n",
       "    .dataframe tbody tr th {\n",
       "        vertical-align: top;\n",
       "    }\n",
       "\n",
       "    .dataframe thead th {\n",
       "        text-align: right;\n",
       "    }\n",
       "</style>\n",
       "<table border=\"1\" class=\"dataframe\">\n",
       "  <thead>\n",
       "    <tr style=\"text-align: right;\">\n",
       "      <th></th>\n",
       "      <th>SK텔레콤</th>\n",
       "      <th>삼성전자</th>\n",
       "      <th>LG전자</th>\n",
       "      <th>POSCO</th>\n",
       "      <th>LG화학</th>\n",
       "      <th>LG화학500더하기</th>\n",
       "    </tr>\n",
       "  </thead>\n",
       "  <tbody>\n",
       "    <tr>\n",
       "      <th>2023-01-01</th>\n",
       "      <td>44000.0</td>\n",
       "      <td>70100.0</td>\n",
       "      <td>85000.0</td>\n",
       "      <td>450000.0</td>\n",
       "      <td>500000.0</td>\n",
       "      <td>500500.0</td>\n",
       "    </tr>\n",
       "    <tr>\n",
       "      <th>2023-01-02</th>\n",
       "      <td>44500.0</td>\n",
       "      <td>70200.0</td>\n",
       "      <td>85500.0</td>\n",
       "      <td>455000.0</td>\n",
       "      <td>500500.0</td>\n",
       "      <td>501000.0</td>\n",
       "    </tr>\n",
       "    <tr>\n",
       "      <th>2023-01-05</th>\n",
       "      <td>43900.0</td>\n",
       "      <td>70000.0</td>\n",
       "      <td>84900.0</td>\n",
       "      <td>454900.0</td>\n",
       "      <td>504900.0</td>\n",
       "      <td>549900.0</td>\n",
       "    </tr>\n",
       "    <tr>\n",
       "      <th>2023-01-06</th>\n",
       "      <td>44000.0</td>\n",
       "      <td>70100.0</td>\n",
       "      <td>85000.0</td>\n",
       "      <td>455000.0</td>\n",
       "      <td>505000.0</td>\n",
       "      <td>550000.0</td>\n",
       "    </tr>\n",
       "  </tbody>\n",
       "</table>\n",
       "</div>"
      ],
      "text/plain": [
       "              SK텔레콤     삼성전자     LG전자     POSCO      LG화학  LG화학500더하기\n",
       "2023-01-01  44000.0  70100.0  85000.0  450000.0  500000.0    500500.0\n",
       "2023-01-02  44500.0  70200.0  85500.0  455000.0  500500.0    501000.0\n",
       "2023-01-05  43900.0  70000.0  84900.0  454900.0  504900.0    549900.0\n",
       "2023-01-06  44000.0  70100.0  85000.0  455000.0  505000.0    550000.0"
      ]
     },
     "execution_count": 167,
     "metadata": {},
     "output_type": "execute_result"
    }
   ],
   "source": [
    "concat_df2.sort_index(ascending=True)"
   ]
  },
  {
   "cell_type": "code",
   "execution_count": null,
   "metadata": {},
   "outputs": [
    {
     "data": {
      "text/html": [
       "<div>\n",
       "<style scoped>\n",
       "    .dataframe tbody tr th:only-of-type {\n",
       "        vertical-align: middle;\n",
       "    }\n",
       "\n",
       "    .dataframe tbody tr th {\n",
       "        vertical-align: top;\n",
       "    }\n",
       "\n",
       "    .dataframe thead th {\n",
       "        text-align: right;\n",
       "    }\n",
       "</style>\n",
       "<table border=\"1\" class=\"dataframe\">\n",
       "  <thead>\n",
       "    <tr style=\"text-align: right;\">\n",
       "      <th></th>\n",
       "      <th>SK텔레콤</th>\n",
       "      <th>삼성전자</th>\n",
       "      <th>LG전자</th>\n",
       "      <th>POSCO</th>\n",
       "      <th>LG화학</th>\n",
       "      <th>LG화학500더하기</th>\n",
       "    </tr>\n",
       "  </thead>\n",
       "  <tbody>\n",
       "    <tr>\n",
       "      <th>2023-01-05</th>\n",
       "      <td>43900.0</td>\n",
       "      <td>70000.0</td>\n",
       "      <td>84900.0</td>\n",
       "      <td>454900.0</td>\n",
       "      <td>504900.0</td>\n",
       "      <td>549900.0</td>\n",
       "    </tr>\n",
       "    <tr>\n",
       "      <th>2023-01-01</th>\n",
       "      <td>44000.0</td>\n",
       "      <td>70100.0</td>\n",
       "      <td>85000.0</td>\n",
       "      <td>450000.0</td>\n",
       "      <td>500000.0</td>\n",
       "      <td>500500.0</td>\n",
       "    </tr>\n",
       "    <tr>\n",
       "      <th>2023-01-06</th>\n",
       "      <td>44000.0</td>\n",
       "      <td>70100.0</td>\n",
       "      <td>85000.0</td>\n",
       "      <td>455000.0</td>\n",
       "      <td>505000.0</td>\n",
       "      <td>550000.0</td>\n",
       "    </tr>\n",
       "    <tr>\n",
       "      <th>2023-01-02</th>\n",
       "      <td>44500.0</td>\n",
       "      <td>70200.0</td>\n",
       "      <td>85500.0</td>\n",
       "      <td>455000.0</td>\n",
       "      <td>500500.0</td>\n",
       "      <td>501000.0</td>\n",
       "    </tr>\n",
       "  </tbody>\n",
       "</table>\n",
       "</div>"
      ],
      "text/plain": [
       "              SK텔레콤     삼성전자     LG전자     POSCO      LG화학  LG화학500더하기\n",
       "2023-01-05  43900.0  70000.0  84900.0  454900.0  504900.0    549900.0\n",
       "2023-01-01  44000.0  70100.0  85000.0  450000.0  500000.0    500500.0\n",
       "2023-01-06  44000.0  70100.0  85000.0  455000.0  505000.0    550000.0\n",
       "2023-01-02  44500.0  70200.0  85500.0  455000.0  500500.0    501000.0"
      ]
     },
     "execution_count": 168,
     "metadata": {},
     "output_type": "execute_result"
    }
   ],
   "source": [
    "concat_df2.sort_values(by = '삼성전자', ascending=True)"
   ]
  },
  {
   "cell_type": "code",
   "execution_count": null,
   "metadata": {},
   "outputs": [
    {
     "data": {
      "text/html": [
       "<div>\n",
       "<style scoped>\n",
       "    .dataframe tbody tr th:only-of-type {\n",
       "        vertical-align: middle;\n",
       "    }\n",
       "\n",
       "    .dataframe tbody tr th {\n",
       "        vertical-align: top;\n",
       "    }\n",
       "\n",
       "    .dataframe thead th {\n",
       "        text-align: right;\n",
       "    }\n",
       "</style>\n",
       "<table border=\"1\" class=\"dataframe\">\n",
       "  <thead>\n",
       "    <tr style=\"text-align: right;\">\n",
       "      <th></th>\n",
       "      <th>SK텔레콤</th>\n",
       "      <th>삼성전자</th>\n",
       "      <th>LG전자</th>\n",
       "      <th>POSCO</th>\n",
       "      <th>LG화학</th>\n",
       "      <th>LG화학500더하기</th>\n",
       "    </tr>\n",
       "  </thead>\n",
       "  <tbody>\n",
       "    <tr>\n",
       "      <th>2023-01-02</th>\n",
       "      <td>44500.0</td>\n",
       "      <td>70200.0</td>\n",
       "      <td>85500.0</td>\n",
       "      <td>455000.0</td>\n",
       "      <td>500500.0</td>\n",
       "      <td>501000.0</td>\n",
       "    </tr>\n",
       "    <tr>\n",
       "      <th>2023-01-06</th>\n",
       "      <td>44000.0</td>\n",
       "      <td>70100.0</td>\n",
       "      <td>85000.0</td>\n",
       "      <td>455000.0</td>\n",
       "      <td>505000.0</td>\n",
       "      <td>550000.0</td>\n",
       "    </tr>\n",
       "    <tr>\n",
       "      <th>2023-01-05</th>\n",
       "      <td>43900.0</td>\n",
       "      <td>70000.0</td>\n",
       "      <td>84900.0</td>\n",
       "      <td>454900.0</td>\n",
       "      <td>504900.0</td>\n",
       "      <td>549900.0</td>\n",
       "    </tr>\n",
       "  </tbody>\n",
       "</table>\n",
       "</div>"
      ],
      "text/plain": [
       "              SK텔레콤     삼성전자     LG전자     POSCO      LG화학  LG화학500더하기\n",
       "2023-01-02  44500.0  70200.0  85500.0  455000.0  500500.0    501000.0\n",
       "2023-01-06  44000.0  70100.0  85000.0  455000.0  505000.0    550000.0\n",
       "2023-01-05  43900.0  70000.0  84900.0  454900.0  504900.0    549900.0"
      ]
     },
     "execution_count": 223,
     "metadata": {},
     "output_type": "execute_result"
    }
   ],
   "source": [
    "concat_df2.drop('2023-01-01') #inplace를 통해 변수 지정을 하지 않고 그대로 적용시켜줄 수 있음\n"
   ]
  },
  {
   "cell_type": "code",
   "execution_count": 22,
   "metadata": {},
   "outputs": [
    {
     "ename": "NameError",
     "evalue": "name 'concat_df2' is not defined",
     "output_type": "error",
     "traceback": [
      "\u001b[1;31m---------------------------------------------------------------------------\u001b[0m",
      "\u001b[1;31mNameError\u001b[0m                                 Traceback (most recent call last)",
      "\u001b[1;32mc:\\Users\\SBA\\Desktop\\새파일\\0911.ipynb 셀 31\u001b[0m line \u001b[0;36m1\n\u001b[1;32m----> <a href='vscode-notebook-cell:/c%3A/Users/SBA/Desktop/%EC%83%88%ED%8C%8C%EC%9D%BC/0911.ipynb#X42sZmlsZQ%3D%3D?line=0'>1</a>\u001b[0m concat_df2\u001b[39m.\u001b[39mdrop(\u001b[39m'\u001b[39m\u001b[39mLG화학500더하기\u001b[39m\u001b[39m'\u001b[39m, axis \u001b[39m=\u001b[39m \u001b[39m1\u001b[39m)\n",
      "\u001b[1;31mNameError\u001b[0m: name 'concat_df2' is not defined"
     ]
    }
   ],
   "source": [
    "concat_df2.drop('LG화학500더하기', axis = 1)"
   ]
  },
  {
   "cell_type": "code",
   "execution_count": 23,
   "metadata": {},
   "outputs": [
    {
     "ename": "NameError",
     "evalue": "name 'concat_df2' is not defined",
     "output_type": "error",
     "traceback": [
      "\u001b[1;31m---------------------------------------------------------------------------\u001b[0m",
      "\u001b[1;31mNameError\u001b[0m                                 Traceback (most recent call last)",
      "\u001b[1;32mc:\\Users\\SBA\\Desktop\\새파일\\0911.ipynb 셀 32\u001b[0m line \u001b[0;36m1\n\u001b[1;32m----> <a href='vscode-notebook-cell:/c%3A/Users/SBA/Desktop/%EC%83%88%ED%8C%8C%EC%9D%BC/0911.ipynb#X43sZmlsZQ%3D%3D?line=0'>1</a>\u001b[0m concat_df2\u001b[39m.\u001b[39mdrop([\u001b[39m'\u001b[39m\u001b[39mLG화학\u001b[39m\u001b[39m'\u001b[39m,\u001b[39m'\u001b[39m\u001b[39mLG화학500더하기\u001b[39m\u001b[39m'\u001b[39m], axis \u001b[39m=\u001b[39m \u001b[39m1\u001b[39m)\n",
      "\u001b[1;31mNameError\u001b[0m: name 'concat_df2' is not defined"
     ]
    }
   ],
   "source": [
    "concat_df2.drop(['LG화학','LG화학500더하기'], axis = 1)"
   ]
  },
  {
   "cell_type": "markdown",
   "metadata": {},
   "source": [
    "### 데이터프레임 다루기"
   ]
  },
  {
   "cell_type": "code",
   "execution_count": null,
   "metadata": {},
   "outputs": [
    {
     "data": {
      "text/html": [
       "<div>\n",
       "<style scoped>\n",
       "    .dataframe tbody tr th:only-of-type {\n",
       "        vertical-align: middle;\n",
       "    }\n",
       "\n",
       "    .dataframe tbody tr th {\n",
       "        vertical-align: top;\n",
       "    }\n",
       "\n",
       "    .dataframe thead th {\n",
       "        text-align: right;\n",
       "    }\n",
       "</style>\n",
       "<table border=\"1\" class=\"dataframe\">\n",
       "  <thead>\n",
       "    <tr style=\"text-align: right;\">\n",
       "      <th></th>\n",
       "      <th>SK텔레콤</th>\n",
       "      <th>삼성전자</th>\n",
       "      <th>LG전자</th>\n",
       "      <th>POSCO</th>\n",
       "      <th>LG화학</th>\n",
       "      <th>LG화학500더하기</th>\n",
       "      <th>sum</th>\n",
       "    </tr>\n",
       "  </thead>\n",
       "  <tbody>\n",
       "    <tr>\n",
       "      <th>2023-01-01</th>\n",
       "      <td>44000.0</td>\n",
       "      <td>70100.0</td>\n",
       "      <td>85000.0</td>\n",
       "      <td>450000.0</td>\n",
       "      <td>500000.0</td>\n",
       "      <td>500500.0</td>\n",
       "      <td>4948800.0</td>\n",
       "    </tr>\n",
       "    <tr>\n",
       "      <th>2023-01-02</th>\n",
       "      <td>44500.0</td>\n",
       "      <td>70200.0</td>\n",
       "      <td>85500.0</td>\n",
       "      <td>455000.0</td>\n",
       "      <td>500500.0</td>\n",
       "      <td>501000.0</td>\n",
       "      <td>4970100.0</td>\n",
       "    </tr>\n",
       "    <tr>\n",
       "      <th>2023-01-06</th>\n",
       "      <td>44000.0</td>\n",
       "      <td>70100.0</td>\n",
       "      <td>85000.0</td>\n",
       "      <td>455000.0</td>\n",
       "      <td>505000.0</td>\n",
       "      <td>550000.0</td>\n",
       "      <td>5127300.0</td>\n",
       "    </tr>\n",
       "    <tr>\n",
       "      <th>2023-01-05</th>\n",
       "      <td>43900.0</td>\n",
       "      <td>70000.0</td>\n",
       "      <td>84900.0</td>\n",
       "      <td>454900.0</td>\n",
       "      <td>504900.0</td>\n",
       "      <td>549900.0</td>\n",
       "      <td>5125500.0</td>\n",
       "    </tr>\n",
       "  </tbody>\n",
       "</table>\n",
       "</div>"
      ],
      "text/plain": [
       "              SK텔레콤     삼성전자     LG전자     POSCO      LG화학  LG화학500더하기  \\\n",
       "2023-01-01  44000.0  70100.0  85000.0  450000.0  500000.0    500500.0   \n",
       "2023-01-02  44500.0  70200.0  85500.0  455000.0  500500.0    501000.0   \n",
       "2023-01-06  44000.0  70100.0  85000.0  455000.0  505000.0    550000.0   \n",
       "2023-01-05  43900.0  70000.0  84900.0  454900.0  504900.0    549900.0   \n",
       "\n",
       "                  sum  \n",
       "2023-01-01  4948800.0  \n",
       "2023-01-02  4970100.0  \n",
       "2023-01-06  5127300.0  \n",
       "2023-01-05  5125500.0  "
      ]
     },
     "execution_count": 229,
     "metadata": {},
     "output_type": "execute_result"
    }
   ],
   "source": [
    "concat_df2['sum'] = concat_df2.sum(axis = 1)\n",
    "concat_df2"
   ]
  },
  {
   "cell_type": "code",
   "execution_count": null,
   "metadata": {},
   "outputs": [
    {
     "data": {
      "text/plain": [
       "SK텔레콤           43900.0\n",
       "삼성전자            70000.0\n",
       "LG전자            84900.0\n",
       "POSCO          450000.0\n",
       "LG화학           500000.0\n",
       "LG화학500더하기     500500.0\n",
       "sum           4948800.0\n",
       "dtype: float64"
      ]
     },
     "execution_count": 231,
     "metadata": {},
     "output_type": "execute_result"
    }
   ],
   "source": [
    "concat_df2.min(axis = 0)"
   ]
  },
  {
   "cell_type": "code",
   "execution_count": 24,
   "metadata": {},
   "outputs": [
    {
     "ename": "NameError",
     "evalue": "name 'concat_df2' is not defined",
     "output_type": "error",
     "traceback": [
      "\u001b[1;31m---------------------------------------------------------------------------\u001b[0m",
      "\u001b[1;31mNameError\u001b[0m                                 Traceback (most recent call last)",
      "\u001b[1;32mc:\\Users\\SBA\\Desktop\\새파일\\0911.ipynb 셀 36\u001b[0m line \u001b[0;36m1\n\u001b[1;32m----> <a href='vscode-notebook-cell:/c%3A/Users/SBA/Desktop/%EC%83%88%ED%8C%8C%EC%9D%BC/0911.ipynb#X50sZmlsZQ%3D%3D?line=0'>1</a>\u001b[0m concat_df2\u001b[39m.\u001b[39mdescribe()\n",
      "\u001b[1;31mNameError\u001b[0m: name 'concat_df2' is not defined"
     ]
    }
   ],
   "source": [
    "concat_df2.describe()"
   ]
  },
  {
   "cell_type": "markdown",
   "metadata": {},
   "source": [
    "## 결측치 처리\n",
    "- 제거: dropna\n",
    "- 대체: fillna, interpolate"
   ]
  },
  {
   "cell_type": "code",
   "execution_count": null,
   "metadata": {},
   "outputs": [],
   "source": [
    "concat_df2.sort_index(inplace= True)"
   ]
  },
  {
   "cell_type": "code",
   "execution_count": null,
   "metadata": {},
   "outputs": [
    {
     "data": {
      "text/html": [
       "<div>\n",
       "<style scoped>\n",
       "    .dataframe tbody tr th:only-of-type {\n",
       "        vertical-align: middle;\n",
       "    }\n",
       "\n",
       "    .dataframe tbody tr th {\n",
       "        vertical-align: top;\n",
       "    }\n",
       "\n",
       "    .dataframe thead th {\n",
       "        text-align: right;\n",
       "    }\n",
       "</style>\n",
       "<table border=\"1\" class=\"dataframe\">\n",
       "  <thead>\n",
       "    <tr style=\"text-align: right;\">\n",
       "      <th></th>\n",
       "      <th>SK텔레콤</th>\n",
       "      <th>삼성전자</th>\n",
       "      <th>LG전자</th>\n",
       "      <th>POSCO</th>\n",
       "      <th>LG화학</th>\n",
       "      <th>LG화학500더하기</th>\n",
       "      <th>sum</th>\n",
       "    </tr>\n",
       "  </thead>\n",
       "  <tbody>\n",
       "    <tr>\n",
       "      <th>2023-01-01</th>\n",
       "      <td>44000.0</td>\n",
       "      <td>70100.0</td>\n",
       "      <td>85000.0</td>\n",
       "      <td>450000.0</td>\n",
       "      <td>500000.0</td>\n",
       "      <td>500500.0</td>\n",
       "      <td>4948800.0</td>\n",
       "    </tr>\n",
       "    <tr>\n",
       "      <th>2023-01-02</th>\n",
       "      <td>44500.0</td>\n",
       "      <td>70200.0</td>\n",
       "      <td>85500.0</td>\n",
       "      <td>455000.0</td>\n",
       "      <td>500500.0</td>\n",
       "      <td>501000.0</td>\n",
       "      <td>4970100.0</td>\n",
       "    </tr>\n",
       "    <tr>\n",
       "      <th>2023-01-05</th>\n",
       "      <td>43900.0</td>\n",
       "      <td>70000.0</td>\n",
       "      <td>NaN</td>\n",
       "      <td>NaN</td>\n",
       "      <td>NaN</td>\n",
       "      <td>549900.0</td>\n",
       "      <td>5125500.0</td>\n",
       "    </tr>\n",
       "    <tr>\n",
       "      <th>2023-01-06</th>\n",
       "      <td>44000.0</td>\n",
       "      <td>70100.0</td>\n",
       "      <td>85000.0</td>\n",
       "      <td>455000.0</td>\n",
       "      <td>505000.0</td>\n",
       "      <td>550000.0</td>\n",
       "      <td>5127300.0</td>\n",
       "    </tr>\n",
       "  </tbody>\n",
       "</table>\n",
       "</div>"
      ],
      "text/plain": [
       "              SK텔레콤     삼성전자     LG전자     POSCO      LG화학  LG화학500더하기  \\\n",
       "2023-01-01  44000.0  70100.0  85000.0  450000.0  500000.0    500500.0   \n",
       "2023-01-02  44500.0  70200.0  85500.0  455000.0  500500.0    501000.0   \n",
       "2023-01-05  43900.0  70000.0      NaN       NaN       NaN    549900.0   \n",
       "2023-01-06  44000.0  70100.0  85000.0  455000.0  505000.0    550000.0   \n",
       "\n",
       "                  sum  \n",
       "2023-01-01  4948800.0  \n",
       "2023-01-02  4970100.0  \n",
       "2023-01-05  5125500.0  \n",
       "2023-01-06  5127300.0  "
      ]
     },
     "execution_count": 246,
     "metadata": {},
     "output_type": "execute_result"
    }
   ],
   "source": [
    "import numpy as np\n",
    "concat_df2.loc['2023-01-05', \"LG전자\":\"LG화학\"] = np.NaN\n",
    "concat_df2"
   ]
  },
  {
   "cell_type": "code",
   "execution_count": null,
   "metadata": {},
   "outputs": [
    {
     "data": {
      "text/html": [
       "<div>\n",
       "<style scoped>\n",
       "    .dataframe tbody tr th:only-of-type {\n",
       "        vertical-align: middle;\n",
       "    }\n",
       "\n",
       "    .dataframe tbody tr th {\n",
       "        vertical-align: top;\n",
       "    }\n",
       "\n",
       "    .dataframe thead th {\n",
       "        text-align: right;\n",
       "    }\n",
       "</style>\n",
       "<table border=\"1\" class=\"dataframe\">\n",
       "  <thead>\n",
       "    <tr style=\"text-align: right;\">\n",
       "      <th></th>\n",
       "      <th>SK텔레콤</th>\n",
       "      <th>삼성전자</th>\n",
       "      <th>LG전자</th>\n",
       "      <th>POSCO</th>\n",
       "      <th>LG화학</th>\n",
       "      <th>LG화학500더하기</th>\n",
       "      <th>sum</th>\n",
       "    </tr>\n",
       "  </thead>\n",
       "  <tbody>\n",
       "    <tr>\n",
       "      <th>2023-01-01</th>\n",
       "      <td>44000.0</td>\n",
       "      <td>70100.0</td>\n",
       "      <td>85000.0</td>\n",
       "      <td>450000.0</td>\n",
       "      <td>500000.0</td>\n",
       "      <td>500500.0</td>\n",
       "      <td>4948800.0</td>\n",
       "    </tr>\n",
       "    <tr>\n",
       "      <th>2023-01-02</th>\n",
       "      <td>44500.0</td>\n",
       "      <td>70200.0</td>\n",
       "      <td>85500.0</td>\n",
       "      <td>455000.0</td>\n",
       "      <td>500500.0</td>\n",
       "      <td>501000.0</td>\n",
       "      <td>4970100.0</td>\n",
       "    </tr>\n",
       "    <tr>\n",
       "      <th>2023-01-06</th>\n",
       "      <td>44000.0</td>\n",
       "      <td>70100.0</td>\n",
       "      <td>85000.0</td>\n",
       "      <td>455000.0</td>\n",
       "      <td>505000.0</td>\n",
       "      <td>550000.0</td>\n",
       "      <td>5127300.0</td>\n",
       "    </tr>\n",
       "  </tbody>\n",
       "</table>\n",
       "</div>"
      ],
      "text/plain": [
       "              SK텔레콤     삼성전자     LG전자     POSCO      LG화학  LG화학500더하기  \\\n",
       "2023-01-01  44000.0  70100.0  85000.0  450000.0  500000.0    500500.0   \n",
       "2023-01-02  44500.0  70200.0  85500.0  455000.0  500500.0    501000.0   \n",
       "2023-01-06  44000.0  70100.0  85000.0  455000.0  505000.0    550000.0   \n",
       "\n",
       "                  sum  \n",
       "2023-01-01  4948800.0  \n",
       "2023-01-02  4970100.0  \n",
       "2023-01-06  5127300.0  "
      ]
     },
     "execution_count": 248,
     "metadata": {},
     "output_type": "execute_result"
    }
   ],
   "source": [
    "concat_df2.dropna()"
   ]
  },
  {
   "cell_type": "code",
   "execution_count": null,
   "metadata": {},
   "outputs": [
    {
     "data": {
      "text/html": [
       "<div>\n",
       "<style scoped>\n",
       "    .dataframe tbody tr th:only-of-type {\n",
       "        vertical-align: middle;\n",
       "    }\n",
       "\n",
       "    .dataframe tbody tr th {\n",
       "        vertical-align: top;\n",
       "    }\n",
       "\n",
       "    .dataframe thead th {\n",
       "        text-align: right;\n",
       "    }\n",
       "</style>\n",
       "<table border=\"1\" class=\"dataframe\">\n",
       "  <thead>\n",
       "    <tr style=\"text-align: right;\">\n",
       "      <th></th>\n",
       "      <th>SK텔레콤</th>\n",
       "      <th>삼성전자</th>\n",
       "      <th>LG전자</th>\n",
       "      <th>POSCO</th>\n",
       "      <th>LG화학</th>\n",
       "      <th>LG화학500더하기</th>\n",
       "      <th>sum</th>\n",
       "    </tr>\n",
       "  </thead>\n",
       "  <tbody>\n",
       "    <tr>\n",
       "      <th>2023-01-01</th>\n",
       "      <td>44000.0</td>\n",
       "      <td>70100.0</td>\n",
       "      <td>85000.0</td>\n",
       "      <td>450000.0</td>\n",
       "      <td>500000.0</td>\n",
       "      <td>500500.0</td>\n",
       "      <td>4948800.0</td>\n",
       "    </tr>\n",
       "    <tr>\n",
       "      <th>2023-01-02</th>\n",
       "      <td>44500.0</td>\n",
       "      <td>70200.0</td>\n",
       "      <td>85500.0</td>\n",
       "      <td>455000.0</td>\n",
       "      <td>500500.0</td>\n",
       "      <td>501000.0</td>\n",
       "      <td>4970100.0</td>\n",
       "    </tr>\n",
       "    <tr>\n",
       "      <th>2023-01-05</th>\n",
       "      <td>43900.0</td>\n",
       "      <td>70000.0</td>\n",
       "      <td>85000.0</td>\n",
       "      <td>455000.0</td>\n",
       "      <td>505000.0</td>\n",
       "      <td>549900.0</td>\n",
       "      <td>5125500.0</td>\n",
       "    </tr>\n",
       "    <tr>\n",
       "      <th>2023-01-06</th>\n",
       "      <td>44000.0</td>\n",
       "      <td>70100.0</td>\n",
       "      <td>85000.0</td>\n",
       "      <td>455000.0</td>\n",
       "      <td>505000.0</td>\n",
       "      <td>550000.0</td>\n",
       "      <td>5127300.0</td>\n",
       "    </tr>\n",
       "  </tbody>\n",
       "</table>\n",
       "</div>"
      ],
      "text/plain": [
       "              SK텔레콤     삼성전자     LG전자     POSCO      LG화학  LG화학500더하기  \\\n",
       "2023-01-01  44000.0  70100.0  85000.0  450000.0  500000.0    500500.0   \n",
       "2023-01-02  44500.0  70200.0  85500.0  455000.0  500500.0    501000.0   \n",
       "2023-01-05  43900.0  70000.0  85000.0  455000.0  505000.0    549900.0   \n",
       "2023-01-06  44000.0  70100.0  85000.0  455000.0  505000.0    550000.0   \n",
       "\n",
       "                  sum  \n",
       "2023-01-01  4948800.0  \n",
       "2023-01-02  4970100.0  \n",
       "2023-01-05  5125500.0  \n",
       "2023-01-06  5127300.0  "
      ]
     },
     "execution_count": 264,
     "metadata": {},
     "output_type": "execute_result"
    }
   ],
   "source": [
    "concat_df2.dropna(axis=1)\n",
    "concat_df2.fillna(0)\n",
    "concat_df2.fillna(method = 'bfill')"
   ]
  },
  {
   "cell_type": "code",
   "execution_count": null,
   "metadata": {},
   "outputs": [
    {
     "data": {
      "text/html": [
       "<div>\n",
       "<style scoped>\n",
       "    .dataframe tbody tr th:only-of-type {\n",
       "        vertical-align: middle;\n",
       "    }\n",
       "\n",
       "    .dataframe tbody tr th {\n",
       "        vertical-align: top;\n",
       "    }\n",
       "\n",
       "    .dataframe thead th {\n",
       "        text-align: right;\n",
       "    }\n",
       "</style>\n",
       "<table border=\"1\" class=\"dataframe\">\n",
       "  <thead>\n",
       "    <tr style=\"text-align: right;\">\n",
       "      <th></th>\n",
       "      <th>SK텔레콤</th>\n",
       "      <th>삼성전자</th>\n",
       "      <th>LG전자</th>\n",
       "      <th>POSCO</th>\n",
       "      <th>LG화학</th>\n",
       "      <th>LG화학500더하기</th>\n",
       "      <th>sum</th>\n",
       "    </tr>\n",
       "  </thead>\n",
       "  <tbody>\n",
       "    <tr>\n",
       "      <th>2023-01-01</th>\n",
       "      <td>44000.0</td>\n",
       "      <td>70100.0</td>\n",
       "      <td>85000.0</td>\n",
       "      <td>450000.0</td>\n",
       "      <td>500000.0</td>\n",
       "      <td>500500.0</td>\n",
       "      <td>4948800.0</td>\n",
       "    </tr>\n",
       "    <tr>\n",
       "      <th>2023-01-02</th>\n",
       "      <td>44500.0</td>\n",
       "      <td>70200.0</td>\n",
       "      <td>85500.0</td>\n",
       "      <td>455000.0</td>\n",
       "      <td>500500.0</td>\n",
       "      <td>501000.0</td>\n",
       "      <td>4970100.0</td>\n",
       "    </tr>\n",
       "    <tr>\n",
       "      <th>2023-01-05</th>\n",
       "      <td>43900.0</td>\n",
       "      <td>70000.0</td>\n",
       "      <td>NaN</td>\n",
       "      <td>NaN</td>\n",
       "      <td>NaN</td>\n",
       "      <td>549900.0</td>\n",
       "      <td>5125500.0</td>\n",
       "    </tr>\n",
       "    <tr>\n",
       "      <th>2023-01-06</th>\n",
       "      <td>44000.0</td>\n",
       "      <td>70100.0</td>\n",
       "      <td>85000.0</td>\n",
       "      <td>455000.0</td>\n",
       "      <td>505000.0</td>\n",
       "      <td>550000.0</td>\n",
       "      <td>5127300.0</td>\n",
       "    </tr>\n",
       "    <tr>\n",
       "      <th>2023-01-01</th>\n",
       "      <td>44000.0</td>\n",
       "      <td>70100.0</td>\n",
       "      <td>85000.0</td>\n",
       "      <td>450000.0</td>\n",
       "      <td>500000.0</td>\n",
       "      <td>500500.0</td>\n",
       "      <td>4948800.0</td>\n",
       "    </tr>\n",
       "    <tr>\n",
       "      <th>2023-01-02</th>\n",
       "      <td>44500.0</td>\n",
       "      <td>70200.0</td>\n",
       "      <td>85500.0</td>\n",
       "      <td>455000.0</td>\n",
       "      <td>500500.0</td>\n",
       "      <td>501000.0</td>\n",
       "      <td>4970100.0</td>\n",
       "    </tr>\n",
       "    <tr>\n",
       "      <th>2023-01-05</th>\n",
       "      <td>43900.0</td>\n",
       "      <td>70000.0</td>\n",
       "      <td>NaN</td>\n",
       "      <td>NaN</td>\n",
       "      <td>NaN</td>\n",
       "      <td>549900.0</td>\n",
       "      <td>5125500.0</td>\n",
       "    </tr>\n",
       "    <tr>\n",
       "      <th>2023-01-06</th>\n",
       "      <td>44000.0</td>\n",
       "      <td>70100.0</td>\n",
       "      <td>85000.0</td>\n",
       "      <td>455000.0</td>\n",
       "      <td>505000.0</td>\n",
       "      <td>550000.0</td>\n",
       "      <td>5127300.0</td>\n",
       "    </tr>\n",
       "  </tbody>\n",
       "</table>\n",
       "</div>"
      ],
      "text/plain": [
       "              SK텔레콤     삼성전자     LG전자     POSCO      LG화학  LG화학500더하기  \\\n",
       "2023-01-01  44000.0  70100.0  85000.0  450000.0  500000.0    500500.0   \n",
       "2023-01-02  44500.0  70200.0  85500.0  455000.0  500500.0    501000.0   \n",
       "2023-01-05  43900.0  70000.0      NaN       NaN       NaN    549900.0   \n",
       "2023-01-06  44000.0  70100.0  85000.0  455000.0  505000.0    550000.0   \n",
       "2023-01-01  44000.0  70100.0  85000.0  450000.0  500000.0    500500.0   \n",
       "2023-01-02  44500.0  70200.0  85500.0  455000.0  500500.0    501000.0   \n",
       "2023-01-05  43900.0  70000.0      NaN       NaN       NaN    549900.0   \n",
       "2023-01-06  44000.0  70100.0  85000.0  455000.0  505000.0    550000.0   \n",
       "\n",
       "                  sum  \n",
       "2023-01-01  4948800.0  \n",
       "2023-01-02  4970100.0  \n",
       "2023-01-05  5125500.0  \n",
       "2023-01-06  5127300.0  \n",
       "2023-01-01  4948800.0  \n",
       "2023-01-02  4970100.0  \n",
       "2023-01-05  5125500.0  \n",
       "2023-01-06  5127300.0  "
      ]
     },
     "execution_count": 268,
     "metadata": {},
     "output_type": "execute_result"
    }
   ],
   "source": [
    "concat_df3 = concat_df2.copy()\n",
    "concat_df4 = pd.concat([concat_df2, concat_df3])\n",
    "concat_df4"
   ]
  },
  {
   "cell_type": "code",
   "execution_count": null,
   "metadata": {},
   "outputs": [
    {
     "data": {
      "text/html": [
       "<div>\n",
       "<style scoped>\n",
       "    .dataframe tbody tr th:only-of-type {\n",
       "        vertical-align: middle;\n",
       "    }\n",
       "\n",
       "    .dataframe tbody tr th {\n",
       "        vertical-align: top;\n",
       "    }\n",
       "\n",
       "    .dataframe thead th {\n",
       "        text-align: right;\n",
       "    }\n",
       "</style>\n",
       "<table border=\"1\" class=\"dataframe\">\n",
       "  <thead>\n",
       "    <tr style=\"text-align: right;\">\n",
       "      <th></th>\n",
       "      <th>SK텔레콤</th>\n",
       "      <th>삼성전자</th>\n",
       "      <th>LG전자</th>\n",
       "      <th>POSCO</th>\n",
       "      <th>LG화학</th>\n",
       "      <th>LG화학500더하기</th>\n",
       "      <th>sum</th>\n",
       "    </tr>\n",
       "  </thead>\n",
       "  <tbody>\n",
       "    <tr>\n",
       "      <th>2023-01-01</th>\n",
       "      <td>44000.0</td>\n",
       "      <td>70100.0</td>\n",
       "      <td>85000.0</td>\n",
       "      <td>450000.0</td>\n",
       "      <td>500000.0</td>\n",
       "      <td>500500.0</td>\n",
       "      <td>4948800.0</td>\n",
       "    </tr>\n",
       "    <tr>\n",
       "      <th>2023-01-02</th>\n",
       "      <td>44500.0</td>\n",
       "      <td>70200.0</td>\n",
       "      <td>85500.0</td>\n",
       "      <td>455000.0</td>\n",
       "      <td>500500.0</td>\n",
       "      <td>501000.0</td>\n",
       "      <td>4970100.0</td>\n",
       "    </tr>\n",
       "    <tr>\n",
       "      <th>2023-01-05</th>\n",
       "      <td>43900.0</td>\n",
       "      <td>70000.0</td>\n",
       "      <td>NaN</td>\n",
       "      <td>NaN</td>\n",
       "      <td>NaN</td>\n",
       "      <td>549900.0</td>\n",
       "      <td>5125500.0</td>\n",
       "    </tr>\n",
       "  </tbody>\n",
       "</table>\n",
       "</div>"
      ],
      "text/plain": [
       "              SK텔레콤     삼성전자     LG전자     POSCO      LG화학  LG화학500더하기  \\\n",
       "2023-01-01  44000.0  70100.0  85000.0  450000.0  500000.0    500500.0   \n",
       "2023-01-02  44500.0  70200.0  85500.0  455000.0  500500.0    501000.0   \n",
       "2023-01-05  43900.0  70000.0      NaN       NaN       NaN    549900.0   \n",
       "\n",
       "                  sum  \n",
       "2023-01-01  4948800.0  \n",
       "2023-01-02  4970100.0  \n",
       "2023-01-05  5125500.0  "
      ]
     },
     "execution_count": 295,
     "metadata": {},
     "output_type": "execute_result"
    }
   ],
   "source": [
    "concat_df2.interpolate() #중간값을 채우는 함수\n",
    "concat_df4.drop_duplicates()\n",
    "concat_df2.loc['2023-01-03', :] = concat_df2.loc['2023-01-06', :].copy()\n",
    "concat_df2.sort_index(inplace=True)\n",
    "concat_df2\n",
    "\n",
    "concat_df2.drop_duplicates\n",
    "idx = concat_df2['삼성전자'].drop_duplicates().index #인덱스 기준으로 데이터를 가져오는 것이 많다\n",
    "concat_df2.loc[idx, :]"
   ]
  },
  {
   "cell_type": "code",
   "execution_count": 58,
   "metadata": {},
   "outputs": [
    {
     "data": {
      "text/html": [
       "<div>\n",
       "<style scoped>\n",
       "    .dataframe tbody tr th:only-of-type {\n",
       "        vertical-align: middle;\n",
       "    }\n",
       "\n",
       "    .dataframe tbody tr th {\n",
       "        vertical-align: top;\n",
       "    }\n",
       "\n",
       "    .dataframe thead th {\n",
       "        text-align: right;\n",
       "    }\n",
       "</style>\n",
       "<table border=\"1\" class=\"dataframe\">\n",
       "  <thead>\n",
       "    <tr style=\"text-align: right;\">\n",
       "      <th></th>\n",
       "      <th>value</th>\n",
       "      <th>LG화학</th>\n",
       "      <th>value_add_100</th>\n",
       "    </tr>\n",
       "  </thead>\n",
       "  <tbody>\n",
       "    <tr>\n",
       "      <th>2022-01-01</th>\n",
       "      <td>1</td>\n",
       "      <td>0</td>\n",
       "      <td>101</td>\n",
       "    </tr>\n",
       "    <tr>\n",
       "      <th>2022-02-01</th>\n",
       "      <td>2</td>\n",
       "      <td>0</td>\n",
       "      <td>102</td>\n",
       "    </tr>\n",
       "    <tr>\n",
       "      <th>2022-03-01</th>\n",
       "      <td>3</td>\n",
       "      <td>0</td>\n",
       "      <td>103</td>\n",
       "    </tr>\n",
       "    <tr>\n",
       "      <th>2022-04-01</th>\n",
       "      <td>4</td>\n",
       "      <td>0</td>\n",
       "      <td>104</td>\n",
       "    </tr>\n",
       "    <tr>\n",
       "      <th>2022-05-01</th>\n",
       "      <td>5</td>\n",
       "      <td>0</td>\n",
       "      <td>105</td>\n",
       "    </tr>\n",
       "    <tr>\n",
       "      <th>2022-06-01</th>\n",
       "      <td>6</td>\n",
       "      <td>0</td>\n",
       "      <td>106</td>\n",
       "    </tr>\n",
       "    <tr>\n",
       "      <th>2022-07-01</th>\n",
       "      <td>7</td>\n",
       "      <td>0</td>\n",
       "      <td>107</td>\n",
       "    </tr>\n",
       "    <tr>\n",
       "      <th>2022-08-01</th>\n",
       "      <td>8</td>\n",
       "      <td>0</td>\n",
       "      <td>108</td>\n",
       "    </tr>\n",
       "    <tr>\n",
       "      <th>2022-10-01</th>\n",
       "      <td>10</td>\n",
       "      <td>0</td>\n",
       "      <td>110</td>\n",
       "    </tr>\n",
       "    <tr>\n",
       "      <th>2022-11-01</th>\n",
       "      <td>11</td>\n",
       "      <td>0</td>\n",
       "      <td>111</td>\n",
       "    </tr>\n",
       "    <tr>\n",
       "      <th>2022-12-01</th>\n",
       "      <td>12</td>\n",
       "      <td>0</td>\n",
       "      <td>112</td>\n",
       "    </tr>\n",
       "  </tbody>\n",
       "</table>\n",
       "</div>"
      ],
      "text/plain": [
       "            value  LG화학  value_add_100\n",
       "2022-01-01      1     0            101\n",
       "2022-02-01      2     0            102\n",
       "2022-03-01      3     0            103\n",
       "2022-04-01      4     0            104\n",
       "2022-05-01      5     0            105\n",
       "2022-06-01      6     0            106\n",
       "2022-07-01      7     0            107\n",
       "2022-08-01      8     0            108\n",
       "2022-10-01     10     0            110\n",
       "2022-11-01     11     0            111\n",
       "2022-12-01     12     0            112"
      ]
     },
     "execution_count": 58,
     "metadata": {},
     "output_type": "execute_result"
    }
   ],
   "source": [
    "#1\n",
    "q1 = pd.date_range('2022-01-01','2022-12-01', freq = 'MS')\n",
    "\n",
    "#2\n",
    "gab = {'value': [1,2,3,4,5,6,7,8,9,10,11,12]}\n",
    "dfd = pd.DataFrame(gab, index = q1)\n",
    "\n",
    "concat_dfd['value_add_100'] = concat_dfd['value'] + 100\n",
    "concat_dfd\n",
    "\n",
    "concat_dfd.drop('2022-09-01', axis = 0)"
   ]
  }
 ],
 "metadata": {
  "kernelspec": {
   "display_name": "ai2",
   "language": "python",
   "name": "python3"
  },
  "language_info": {
   "codemirror_mode": {
    "name": "ipython",
    "version": 3
   },
   "file_extension": ".py",
   "mimetype": "text/x-python",
   "name": "python",
   "nbconvert_exporter": "python",
   "pygments_lexer": "ipython3",
   "version": "3.8.17"
  },
  "orig_nbformat": 4
 },
 "nbformat": 4,
 "nbformat_minor": 2
}
